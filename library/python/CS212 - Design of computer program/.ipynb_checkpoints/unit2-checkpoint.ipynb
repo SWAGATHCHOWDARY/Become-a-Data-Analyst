{
 "cells": [
  {
   "cell_type": "code",
   "execution_count": 2,
   "metadata": {
    "collapsed": false,
    "scrolled": false
   },
   "outputs": [],
   "source": [
    "import itertools\n",
    "houses = first, _, middle, _, _ = [1,2,3,4,5]\n",
    "orderings = list(itertools.permutations(houses))\n"
   ]
  },
  {
   "cell_type": "code",
   "execution_count": 3,
   "metadata": {
    "collapsed": false
   },
   "outputs": [
    {
     "name": "stdout",
     "output_type": "stream",
     "text": [
      "(1, 5)\n"
     ]
    }
   ],
   "source": [
    "import itertools\n",
    "def imright(h1, h2):\n",
    "    \"House h1 is immediately right of h2 if h1-h2 == 1.\"\n",
    "    return h1-h2 == 1\n",
    "\n",
    "def nextto(h1, h2):\n",
    "    \"Two houses are next to each other if they differ by 1.\"\n",
    "    return abs(h1-h2) == 1\n",
    "def zebra_puzzle():\n",
    "    houses = [first,_,middle,_,_] = [1,2,3,4,5]\n",
    "    orderings = list(itertools.permutations(houses))\n",
    "    return next((WATER,ZEBRA)\n",
    "        for(red, green, ivory, yellow, blue) in orderings\n",
    "        if imright(green, ivory)        #6\n",
    "        for (Englishman, Spaniard, Ukranian, Japanese, Norwegian) in orderings\n",
    "        if Englishman is red           #2\n",
    "        if Norwegian is first           #10\n",
    "        if nextto(Norwegian, blue)      #15\n",
    "        for (cofee, tea, milk, oj, WATER) in orderings\n",
    "        if cofee is green               #4\n",
    "        if Ukranian is tea              #5\n",
    "        if milk is middle               #9\n",
    "        for (OldGold, Kools, Chesterfields, LuckyStrike, Parliaments) in orderings\n",
    "        if Kools is yellow              #8\n",
    "        if LuckyStrike is oj            #13\n",
    "        if Japanese is Parliaments      #14\n",
    "        for (dog, snails, fox, horse, ZEBRA) in orderings\n",
    "        if Spaniard is dog              #3\n",
    "        if OldGold is snails            #7\n",
    "        if nextto(Chesterfields, fox)\n",
    "        if nextto(Kools, horse)\n",
    "    )\n",
    "\n",
    "print (zebra_puzzle())"
   ]
  },
  {
   "cell_type": "markdown",
   "metadata": {},
   "source": [
    "## yield 的用法"
   ]
  },
  {
   "cell_type": "code",
   "execution_count": 4,
   "metadata": {
    "collapsed": true
   },
   "outputs": [],
   "source": [
    "# ------------\n",
    "# User Instructions\n",
    "#\n",
    "# Define a function, all_ints(), that generates the \n",
    "# integers in the order 0, +1, -1, +2, -2, ...\n",
    "def ints(start, end = None):\n",
    "    i = start\n",
    "    while i <= end or end is None:\n",
    "        yield i\n",
    "        i = i + 1"
   ]
  },
  {
   "cell_type": "code",
   "execution_count": 5,
   "metadata": {
    "collapsed": false
   },
   "outputs": [],
   "source": [
    "#我的垃圾代码\n",
    "def all_ints():\n",
    "    \"Generate integers in the order 0, +1, -1, +2, -2, +3, -3, ...\"\n",
    "    # Your code here.\n",
    "    i = 0\n",
    "    end = None\n",
    "    count = 0\n",
    "    while end is None:\n",
    "        yield i\n",
    "        if i == 0:\n",
    "            i = i + 1\n",
    "        else:\n",
    "            if count==1:\n",
    "                i = -i + 1\n",
    "                count = 0\n",
    "            else:\n",
    "                i = -i\n",
    "                count = count + 1\n",
    "\n",
    "t = all_ints()"
   ]
  },
  {
   "cell_type": "code",
   "execution_count": 9,
   "metadata": {
    "collapsed": false
   },
   "outputs": [
    {
     "data": {
      "text/plain": [
       "2"
      ]
     },
     "execution_count": 9,
     "metadata": {},
     "output_type": "execute_result"
    }
   ],
   "source": [
    "next(t)"
   ]
  },
  {
   "cell_type": "code",
   "execution_count": 10,
   "metadata": {
    "collapsed": true
   },
   "outputs": [],
   "source": [
    "#老师的高级代码    \n",
    "def all_ints():\n",
    "    \"Generate integers in the order 0, +1, -1, +2, -2, +3, -3, ...\"\n",
    "    yield 0\n",
    "    for i in ints(1):\n",
    "        yield +i\n",
    "        yield -i"
   ]
  },
  {
   "cell_type": "code",
   "execution_count": 11,
   "metadata": {
    "collapsed": true
   },
   "outputs": [],
   "source": [
    "# -------------\n",
    "# User Instructions\n",
    "#\n",
    "# Write a function, solve(formula) that solves cryptarithmetic puzzles.\n",
    "# The input should be a formula like 'ODD + ODD == EVEN', and the \n",
    "# output should be a string with the digits filled in, or None if the\n",
    "# problem is not solvable.\n",
    "#\n",
    "# Note that you will not be able to run your code yet since the \n",
    "# program is incomplete. Please SUBMIT to see if you are correct."
   ]
  },
  {
   "cell_type": "code",
   "execution_count": 12,
   "metadata": {
    "collapsed": false
   },
   "outputs": [
    {
     "data": {
      "text/plain": [
       "'655 + 655 == 1310'"
      ]
     },
     "execution_count": 12,
     "metadata": {},
     "output_type": "execute_result"
    }
   ],
   "source": [
    "import string, re,itertools\n",
    "\n",
    "def solve(formula):\n",
    "    \"\"\"Given a formula like 'ODD + ODD == EVEN', fill in digits to solve it.\n",
    "    Input formula is a string; output is a digit-filled-in string or None.\"\"\"\n",
    "    for f in fill_in(formula):\n",
    "        if valid(f):\n",
    "            return f\n",
    "    \n",
    "def fill_in(formula):\n",
    "    \"Generate all possible fillings-in of letters in formula with digits.\"\n",
    "    #letters = set(formula.replace(\"+\",\"\").replace(\"=\",\"\").replace(\" \",\"\"))我的愚蠢解法，只能考虑加号\n",
    "    letters = ''.join(set(re.findall('[A-Z]', formula))) #should be a string\n",
    "    for digits in itertools.permutations('1234567890', len(letters)):\n",
    "        table = str.maketrans(letters, ''.join(digits))\n",
    "        yield formula.translate(table)\n",
    "    \n",
    "def valid(f):\n",
    "    \"\"\"Formula f is valid if and only if it has no \n",
    "    numbers with leading zero, and evals true.\"\"\"\n",
    "    try: \n",
    "        return not re.search(r'\\b0[0-9]', f) and eval(f) is True\n",
    "    except ArithmeticError:\n",
    "        return False\n",
    "    \n",
    "solve('ODD + ODD == EVEN')"
   ]
  },
  {
   "cell_type": "code",
   "execution_count": 13,
   "metadata": {
    "collapsed": false
   },
   "outputs": [],
   "source": [
    "import cProfile"
   ]
  },
  {
   "cell_type": "code",
   "execution_count": 14,
   "metadata": {
    "collapsed": false,
    "scrolled": false
   },
   "outputs": [
    {
     "name": "stdout",
     "output_type": "stream",
     "text": [
      "         3 function calls in 0.000 seconds\n",
      "\n",
      "   Ordered by: standard name\n",
      "\n",
      "   ncalls  tottime  percall  cumtime  percall filename:lineno(function)\n",
      "        1    0.000    0.000    0.000    0.000 <string>:1(<module>)\n",
      "        1    0.000    0.000    0.000    0.000 {built-in method builtins.exec}\n",
      "        1    0.000    0.000    0.000    0.000 {method 'disable' of '_lsprof.Profiler' objects}\n",
      "\n",
      "\n"
     ]
    }
   ],
   "source": [
    "cProfile.run(solve('ODD + ODD == EVEN'))"
   ]
  },
  {
   "cell_type": "code",
   "execution_count": 15,
   "metadata": {
    "collapsed": true
   },
   "outputs": [],
   "source": [
    "def compile_word(word):\n",
    "    \"\"\"Compile a word of uppercase letters as numeric digits.\n",
    "    E.g., compile_word('YOU') => '(1*U+10*O+100*Y)'\n",
    "    Non-uppercase words unchanged: compile_word('+') => '+'\"\"\"\n",
    "    for i in range(0,len(word)):\n",
    "        word = word[::-1]\n",
    "        if re.findall('[A-Z]', word[i]):\n",
    "            result = result + str(10**i) + \"*\" + a[i]\n",
    "            if i != len(word)-1:\n",
    "                result = result+ \"+\"\n",
    "        else:\n",
    "            result = result+word[i]\n",
    "\n"
   ]
  },
  {
   "cell_type": "code",
   "execution_count": null,
   "metadata": {
    "collapsed": true
   },
   "outputs": [],
   "source": [
    "#\"Compile a word of uppercase letters as numeric digits.\n",
    "#    E.g., compile_word('YOU') => '(1*U+10*O+100*Y)'\n",
    "#    Non-uppercase words unchanged: compile_word('+') => '+'"
   ]
  },
  {
   "cell_type": "code",
   "execution_count": 19,
   "metadata": {
    "collapsed": false
   },
   "outputs": [],
   "source": [
    "#我的辣鸡代码\n",
    "def compile_word(word):\n",
    "    if re.findall('[A-Z]', word):\n",
    "        result = ''  \n",
    "        word = word[::-1]\n",
    "        for i in range(0,len(word)):\n",
    "            if re.findall('[A-Z]', word[i]):\n",
    "                print (word[i])\n",
    "                result = result + str(10**i) + \"*\" + word[i]\n",
    "                if i != len(word)-1:\n",
    "                    result = result+ \"+\"\n",
    "            else:\n",
    "                result = result+word[i]\n",
    "        return result\n",
    "    else:\n",
    "        return word"
   ]
  },
  {
   "cell_type": "code",
   "execution_count": 20,
   "metadata": {
    "collapsed": false
   },
   "outputs": [
    {
     "data": {
      "text/plain": [
       "'(1*U+10*O+100*Y)'"
      ]
     },
     "execution_count": 20,
     "metadata": {},
     "output_type": "execute_result"
    }
   ],
   "source": [
    "#老师的优秀代码\n",
    "def complie_word(word):\n",
    "    if word.isupper():\n",
    "        terms= [('%s*%s' % (10**i,d)) for (i,d) in enumerate(word[::-1])]\n",
    "        return \"(\"     +       \"+\".join(terms)    +     \")\"   #join就解决了是不是第一个要不加加号的问题，用加号连接，但是首尾不用加号\n",
    "    else:\n",
    "        return word\n",
    "\n",
    "complie_word('YOU')  "
   ]
  },
  {
   "cell_type": "raw",
   "metadata": {},
   "source": [
    ">>> choices = ['pizza', 'pasta', 'salad', 'nachos']\n",
    ">>> list(enumerate(choices))\n",
    "=> [(0, 'pizza'), (1, 'pasta'), (2, 'salad'), (3, 'nachos')]"
   ]
  },
  {
   "cell_type": "code",
   "execution_count": 34,
   "metadata": {
    "collapsed": false,
    "scrolled": false
   },
   "outputs": [
    {
     "name": "stdout",
     "output_type": "stream",
     "text": [
      "A\n",
      "B\n",
      "A\n",
      "B\n"
     ]
    }
   ],
   "source": [
    "##final code\n",
    "import string, re,itertools\n",
    "\n",
    "def faster_solve(formula):\n",
    "    \"\"\"Given a formula like 'ODD + ODD == EVEN', fill in digits to solve it.\n",
    "    Input formula is a string; output is a digit-filled-in string or None.\"\"\"\n",
    "    f, letters = compile_formula(formula)\n",
    "    for digits in itertools.permutations((1,2,3,4,5,6,7,8,9,0), len(letters)):\n",
    "        #print (digits)\n",
    "        try:\n",
    "            #print (f(*digits))\n",
    "            if f(*digits) is True:\n",
    "                table = str.maketrans(letters, ''.join(map(str,digits)))\n",
    "                final = formula.translate(table)\n",
    "                return final\n",
    "        except ArithmeticError:\n",
    "            pass\n",
    "\n",
    "def compile_formula(formula, verbose = False):\n",
    "    letters = ''.join(set(re.findall('[A-Z]', formula)))\n",
    "    parms = ','.join(letters)\n",
    "    tokens = map(compile_word, re.split('([A-Z]+)', formula))\n",
    "    body = ''.join(tokens)\n",
    "    f = 'lambda %s: %s' % (parms, body)\n",
    "    if verbose : print (f)\n",
    "    return eval(f),letters  #eval把str转换成运算\n",
    "    \n",
    "        \n",
    "def complie_word(word):\n",
    "    if word.isupper():\n",
    "        terms= [('%s*%s' % (10**i,d)) for (i,d) in enumerate(word[::-1])]\n",
    "        return \"(\"     +       \"+\".join(terms)    +     \")\"   #join就解决了是不是第一个要不加加号的问题，用加号连接，但是首尾不用加号\n",
    "    else:\n",
    "        return word\n",
    "    \n",
    "def valid(f):\n",
    "    \"\"\"Formula f is valid if and only if it has no \n",
    "    numbers with leading zero, and evals true.\"\"\"\n",
    "    try: \n",
    "        return not re.search(r'\\b0[0-9]', f) and eval(f) is True\n",
    "    except ArithmeticError:\n",
    "        return False\n",
    "    \n",
    "faster_solve('A + B == BA')\n",
    "\n",
    "\n",
    "def test():\n",
    "    assert faster_solve('A + B == BA') == None # should NOT return '1 + 0 == 01'\n",
    "    assert faster_solve('YOU == ME**2') == ('289 == 17**2' or '576 == 24**2' or '841 == 29**2')\n",
    "    assert faster_solve('X / X == X') == '1 / 1 == 1'\n",
    "    return 'tests pass'\n",
    "#test()\n"
   ]
  },
  {
   "cell_type": "code",
   "execution_count": 22,
   "metadata": {
    "collapsed": false
   },
   "outputs": [
    {
     "data": {
      "text/plain": [
       "True"
      ]
     },
     "execution_count": 22,
     "metadata": {},
     "output_type": "execute_result"
    }
   ],
   "source": [
    "a = lambda O,V,D,N,E: 1*D+10*D+100*O + 1*D+10*D+100*O == 1*N+10*E+100*V+1000*E\n",
    "a(6,3,5,0,1)"
   ]
  },
  {
   "cell_type": "code",
   "execution_count": 45,
   "metadata": {
    "collapsed": false
   },
   "outputs": [],
   "source": [
    "# --------------\n",
    "# User Instructions\n",
    "# \n",
    "# Modify the function compile_formula so that the function \n",
    "# it returns, f, does not allow numbers where the first digit\n",
    "# is zero. So if the formula contained YOU, f would return \n",
    "# False anytime that Y was 0 \n",
    "\n",
    "import re\n",
    "import itertools\n",
    "import string\n",
    "\n",
    "def compile_formula(formula, verbose=False):\n",
    "    \"\"\"Compile formula into a function. Also return letters found, as a str,\n",
    "    in same order as parms of function. The first digit of a multi-digit \n",
    "    number can't be 0. So if YOU is a word in the formula, and the function\n",
    "    is called with Y eqal to 0, the function should return False.\"\"\"\n",
    "    \n",
    "    # modify the code in this function.\n",
    "    \n",
    "    letters = ''.join(set(re.findall('[A-Z]', formula)))\n",
    "    parms = ', '.join(letters)\n",
    "    tokens = map(compile_word, re.split('([A-Z]+)', formula))\n",
    "    body = ''.join(tokens)\n",
    "    f = 'lambda %s: %s' % (parms, body)\n",
    "    if verbose: print (f)\n",
    "    return eval(f), letters\n",
    "\n",
    "def compile_word(word):\n",
    "    \"\"\"Compile a word of uppercase letters as numeric digits.\n",
    "    E.g., compile_word('YOU') => '(1*U+10*O+100*Y)'\n",
    "    Non-uppercase words uncahanged: compile_word('+') => '+'\"\"\"\n",
    "    if word.isupper():\n",
    "        terms = [('%s*%s' % (10**i, d)) \n",
    "                 for (i, d) in enumerate(word[::-1])]\n",
    "        return '(' + '+'.join(terms) + ')'\n",
    "    else:\n",
    "        return word\n",
    "    \n",
    "def faster_solve(formula):\n",
    "    \"\"\"Given a formula like 'ODD + ODD == EVEN', fill in digits to solve it.\n",
    "    Input formula is a string; output is a digit-filled-in string or None.\n",
    "    This version precompiles the formula; only one eval per formula.\"\"\"\n",
    "    f, letters = compile_formula(formula)\n",
    "    for digits in itertools.permutations((1,2,3,4,5,6,7,8,9,0), len(letters)):\n",
    "        try:\n",
    "            if f(*digits) is True:\n",
    "                table = str.maketrans(letters, ''.join(map(str, digits)))\n",
    "                final = formula.translate(table)\n",
    "                if not re.search(r'\\b0[0-9]', final):\n",
    "                    return final\n",
    "                else:\n",
    "                    return None\n",
    "        except ArithmeticError:\n",
    "            pass\n",
    "\n",
    "def test():\n",
    "    assert faster_solve('A + B == BA') == None # should NOT return '1 + 0 == 01'\n",
    "    assert faster_solve('YOU == ME**2') == ('289 == 17**2' or '576 == 24**2' or '841 == 29**2')\n",
    "    assert faster_solve('X / X == X') == '1 / 1 == 1'\n",
    "    return 'tests pass'\n",
    "#test()"
   ]
  },
  {
   "cell_type": "code",
   "execution_count": 48,
   "metadata": {
    "collapsed": false
   },
   "outputs": [
    {
     "data": {
      "text/plain": [
       "'324 == 18**2'"
      ]
     },
     "execution_count": 48,
     "metadata": {},
     "output_type": "execute_result"
    }
   ],
   "source": [
    "faster_solve('YOU == ME**2')"
   ]
  },
  {
   "cell_type": "code",
   "execution_count": 71,
   "metadata": {
    "collapsed": false
   },
   "outputs": [
    {
     "name": "stdout",
     "output_type": "stream",
     "text": [
      "lambda O, M, Y, E, U: M!=0 and Y!=0 and ((1*U+10*O+100*Y) == (1*E+10*M)**2)\n"
     ]
    },
    {
     "data": {
      "text/plain": [
       "'324 == 18**2'"
      ]
     },
     "execution_count": 71,
     "metadata": {},
     "output_type": "execute_result"
    }
   ],
   "source": [
    "#我的解法是在faster solve 函数中修改，但是老师是直接在compile_formula(formula, verbose=False) 中修改\n",
    "import re\n",
    "import itertools\n",
    "import string\n",
    "\n",
    "def compile_word(word):\n",
    "    \"\"\"Compile a word of uppercase letters as numeric digits.\n",
    "    E.g., compile_word('YOU') => '(1*U+10*O+100*Y)'\n",
    "    Non-uppercase words uncahanged: compile_word('+') => '+'\"\"\"\n",
    "    if word.isupper():\n",
    "        terms = [('%s*%s' % (10**i, d)) \n",
    "                 for (i, d) in enumerate(word[::-1])]\n",
    "        return '(' + '+'.join(terms) + ')'\n",
    "    else:\n",
    "        return word\n",
    "    \n",
    "def faster_solve(formula):\n",
    "    \"\"\"Given a formula like 'ODD + ODD == EVEN', fill in digits to solve it.\n",
    "    Input formula is a string; output is a digit-filled-in string or None.\n",
    "    This version precompiles the formula; only one eval per formula.\"\"\"\n",
    "    f, letters = compile_formula(formula)\n",
    "    for digits in itertools.permutations((1,2,3,4,5,6,7,8,9,0), len(letters)):\n",
    "        try:\n",
    "            if f(*digits) is True:\n",
    "                table = str.maketrans(letters, ''.join(map(str, digits)))\n",
    "                final = formula.translate(table)\n",
    "                if not re.search(r'\\b0[0-9]', final):\n",
    "                    return final\n",
    "                else:\n",
    "                    return None\n",
    "        except ArithmeticError:\n",
    "            pass\n",
    "def compile_formula(formula, verbose=True):\n",
    "    \"\"\"Compile formula into a function. Also return letters found, as a str,\n",
    "    in same order as parms of function. The first digit of a multi-digit \n",
    "    number can't be 0. So if YOU is a word in the formula, and the function\n",
    "    is called with Y eqal to 0, the function should return False.\"\"\"\n",
    "    \n",
    "    # modify the code in this function.\n",
    "    \n",
    "    letters = ''.join(set(re.findall('[A-Z]', formula)))\n",
    "    firstletters = set(re.findall(r'\\b([A-Z])[A-Z]',formula))\n",
    "    #print(firstletters)\n",
    "    parms = ', '.join(letters)\n",
    "    tokens = map(compile_word, re.split('([A-Z]+)', formula))\n",
    "    body = ''.join(tokens)\n",
    "    if firstletters:\n",
    "        tests = ' and '.join(L+'!=0' for L in firstletters)\n",
    "        body = '%s and (%s)' % (tests,body)\n",
    "    f = 'lambda %s: %s' % (parms, body)\n",
    "    if verbose: print (f)\n",
    "    return eval(f), letters\n",
    "\n",
    "faster_solve('YOU == ME**2')"
   ]
  },
  {
   "cell_type": "markdown",
   "metadata": {},
   "source": [
    "## 2"
   ]
  },
  {
   "cell_type": "code",
   "execution_count": 72,
   "metadata": {
    "collapsed": true
   },
   "outputs": [],
   "source": [
    "#------------------\n",
    "# User Instructions\n",
    "#\n",
    "# Hopper, Kay, Liskov, Perlis, and Ritchie live on \n",
    "# different floors of a five-floor apartment building. \n",
    "#\n",
    "# Hopper does not live on the top floor. \n",
    "# Kay does not live on the bottom floor. \n",
    "# Liskov does not live on either the top or the bottom floor. \n",
    "# Perlis lives on a higher floor than does Kay. \n",
    "# Ritchie does not live on a floor adjacent to Liskov's. \n",
    "# Liskov does not live on a floor adjacent to Kay's. \n",
    "# \n",
    "# Where does everyone live?  \n",
    "# \n",
    "# Write a function floor_puzzle() that returns a list of\n",
    "# five floor numbers denoting the floor of Hopper, Kay, \n",
    "# Liskov, Perlis, and Ritchie."
   ]
  },
  {
   "cell_type": "code",
   "execution_count": 78,
   "metadata": {
    "collapsed": false
   },
   "outputs": [
    {
     "data": {
      "text/plain": [
       "[3, 2, 4, 5, 1]"
      ]
     },
     "execution_count": 78,
     "metadata": {},
     "output_type": "execute_result"
    }
   ],
   "source": [
    "import itertools\n",
    "def nextto(h1, h2):\n",
    "    \"Two houses are next to each other if they differ by 1.\"\n",
    "    return abs(h1-h2) == 1\n",
    "\n",
    "def floor_puzzle():\n",
    "    # Your code here\n",
    "    floor = [bottom,_,middle,_,top] = [1,2,3,4,5]\n",
    "    orderings = list(itertools.permutations(floor))\n",
    "    return next([Hopper, Kay, Liskov, Perlis, Ritchie]\n",
    "                for (Hopper, Kay, Liskov, Perlis, Ritchie) in orderings\n",
    "                if Hopper != 5\n",
    "                if Kay !=1\n",
    "                if Liskov !=1 and Liskov !=5\n",
    "                if Perlis - Kay > 0\n",
    "                if nextto(Liskov,Kay) == False\n",
    "                if nextto(Ritchie,Liskov) == False\n",
    "               )\n",
    "\n",
    "floor_puzzle()"
   ]
  },
  {
   "cell_type": "code",
   "execution_count": null,
   "metadata": {
    "collapsed": true
   },
   "outputs": [],
   "source": [
    "# --------------\n",
    "# User Instructions\n",
    "#\n",
    "# Write a function, longest_subpalindrome_slice(text) that takes \n",
    "# a string as input and returns the i and j indices that \n",
    "# correspond to the beginning and end indices of the longest \n",
    "# palindrome in the string. \n",
    "#\n",
    "# Grading Notes:\n",
    "# \n",
    "# You will only be marked correct if your function runs \n",
    "# efficiently enough. We will be measuring efficency by counting\n",
    "# the number of times you access each string. That count must be\n",
    "# below a certain threshold to be marked correct.\n",
    "#\n",
    "# Please do not use regular expressions to solve this quiz!"
   ]
  },
  {
   "cell_type": "code",
   "execution_count": 136,
   "metadata": {
    "collapsed": false
   },
   "outputs": [
    {
     "ename": "AssertionError",
     "evalue": "",
     "output_type": "error",
     "traceback": [
      "\u001b[0;31m---------------------------------------------------------------------------\u001b[0m",
      "\u001b[0;31mAssertionError\u001b[0m                            Traceback (most recent call last)",
      "\u001b[0;32m<ipython-input-136-ae4e321514a6>\u001b[0m in \u001b[0;36m<module>\u001b[0;34m()\u001b[0m\n\u001b[1;32m     15\u001b[0m     \u001b[1;32mreturn\u001b[0m \u001b[1;34m'tests pass'\u001b[0m\u001b[1;33m\u001b[0m\u001b[0m\n\u001b[1;32m     16\u001b[0m \u001b[1;33m\u001b[0m\u001b[0m\n\u001b[0;32m---> 17\u001b[0;31m \u001b[0mprint\u001b[0m \u001b[1;33m(\u001b[0m\u001b[0mtest\u001b[0m\u001b[1;33m(\u001b[0m\u001b[1;33m)\u001b[0m\u001b[1;33m)\u001b[0m\u001b[1;33m\u001b[0m\u001b[0m\n\u001b[0m",
      "\u001b[0;32m<ipython-input-136-ae4e321514a6>\u001b[0m in \u001b[0;36mtest\u001b[0;34m()\u001b[0m\n\u001b[1;32m      5\u001b[0m \u001b[1;32mdef\u001b[0m \u001b[0mtest\u001b[0m\u001b[1;33m(\u001b[0m\u001b[1;33m)\u001b[0m\u001b[1;33m:\u001b[0m\u001b[1;33m\u001b[0m\u001b[0m\n\u001b[1;32m      6\u001b[0m     \u001b[0mL\u001b[0m \u001b[1;33m=\u001b[0m \u001b[0mlongest_subpalindrome_slice\u001b[0m\u001b[1;33m\u001b[0m\u001b[0m\n\u001b[0;32m----> 7\u001b[0;31m     \u001b[1;32massert\u001b[0m \u001b[0mL\u001b[0m\u001b[1;33m(\u001b[0m\u001b[1;34m'racecar'\u001b[0m\u001b[1;33m)\u001b[0m \u001b[1;33m==\u001b[0m \u001b[1;33m(\u001b[0m\u001b[1;36m0\u001b[0m\u001b[1;33m,\u001b[0m \u001b[1;36m7\u001b[0m\u001b[1;33m)\u001b[0m\u001b[1;33m\u001b[0m\u001b[0m\n\u001b[0m\u001b[1;32m      8\u001b[0m     \u001b[1;32massert\u001b[0m \u001b[0mL\u001b[0m\u001b[1;33m(\u001b[0m\u001b[1;34m'Racecar'\u001b[0m\u001b[1;33m)\u001b[0m \u001b[1;33m==\u001b[0m \u001b[1;33m(\u001b[0m\u001b[1;36m0\u001b[0m\u001b[1;33m,\u001b[0m \u001b[1;36m7\u001b[0m\u001b[1;33m)\u001b[0m\u001b[1;33m\u001b[0m\u001b[0m\n\u001b[1;32m      9\u001b[0m     \u001b[1;32massert\u001b[0m \u001b[0mL\u001b[0m\u001b[1;33m(\u001b[0m\u001b[1;34m'RacecarX'\u001b[0m\u001b[1;33m)\u001b[0m \u001b[1;33m==\u001b[0m \u001b[1;33m(\u001b[0m\u001b[1;36m0\u001b[0m\u001b[1;33m,\u001b[0m \u001b[1;36m7\u001b[0m\u001b[1;33m)\u001b[0m\u001b[1;33m\u001b[0m\u001b[0m\n",
      "\u001b[0;31mAssertionError\u001b[0m: "
     ]
    }
   ],
   "source": [
    "def longest_subpalindrome_slice(text):\n",
    "    \"Return (i, j) such that text[i:j] is the longest palindrome in text.\"\n",
    "    # Your code here\n",
    "    \n",
    "def test():\n",
    "    L = longest_subpalindrome_slice\n",
    "    assert L('racecar') == (0, 7)\n",
    "    assert L('Racecar') == (0, 7)\n",
    "    assert L('RacecarX') == (0, 7)\n",
    "    assert L('Race carr') == (7, 9)\n",
    "    assert L('') == (0, 0)\n",
    "    assert L('something rac e car going') == (8,21)\n",
    "    assert L('xxxxx') == (0, 5)\n",
    "    assert L('Mad am I ma dam.') == (0, 15)\n",
    "    return 'tests pass'\n",
    "\n",
    "print (test())"
   ]
  },
  {
   "cell_type": "code",
   "execution_count": 170,
   "metadata": {
    "collapsed": false,
    "scrolled": false
   },
   "outputs": [
    {
     "name": "stdout",
     "output_type": "stream",
     "text": [
      "(1, 7)\n"
     ]
    }
   ],
   "source": [
    "def longest_subpalindrome_slice(text):\n",
    "    text = text[::-1]\n",
    "    for i in range(0,len(text)+1):\n",
    "        for j in rang(len(text)/2,len(text)+1 )\n",
    "            \n",
    "\n",
    "def check_longest_subpalindrome():"
   ]
  },
  {
   "cell_type": "code",
   "execution_count": 175,
   "metadata": {
    "collapsed": false
   },
   "outputs": [
    {
     "name": "stdout",
     "output_type": "stream",
     "text": [
      "rr\n"
     ]
    }
   ],
   "source": [
    "print ('Race carr'[7:9])"
   ]
  },
  {
   "cell_type": "code",
   "execution_count": 139,
   "metadata": {
    "collapsed": false
   },
   "outputs": [
    {
     "data": {
      "text/plain": [
       "9"
      ]
     },
     "execution_count": 139,
     "metadata": {},
     "output_type": "execute_result"
    }
   ],
   "source": [
    "a = 'Race carr'\n",
    "len(a)"
   ]
  },
  {
   "cell_type": "code",
   "execution_count": 140,
   "metadata": {
    "collapsed": false
   },
   "outputs": [
    {
     "data": {
      "text/plain": [
       "'rr'"
      ]
     },
     "execution_count": 140,
     "metadata": {},
     "output_type": "execute_result"
    }
   ],
   "source": [
    "a[7:9]"
   ]
  },
  {
   "cell_type": "code",
   "execution_count": 141,
   "metadata": {
    "collapsed": false
   },
   "outputs": [
    {
     "data": {
      "text/plain": [
       "'rr'"
      ]
     },
     "execution_count": 141,
     "metadata": {},
     "output_type": "execute_result"
    }
   ],
   "source": [
    "a[::-1][9-9:9-7]"
   ]
  },
  {
   "cell_type": "code",
   "execution_count": 177,
   "metadata": {
    "collapsed": false
   },
   "outputs": [
    {
     "name": "stdout",
     "output_type": "stream",
     "text": [
      "0\n",
      "1\n",
      "2\n",
      "3\n",
      "4\n",
      "5\n",
      "6\n",
      "7\n",
      "8\n"
     ]
    }
   ],
   "source": [
    "for i in range(0,9):\n",
    "    print (i)"
   ]
  },
  {
   "cell_type": "code",
   "execution_count": 178,
   "metadata": {
    "collapsed": true
   },
   "outputs": [],
   "source": [
    "a = 'Race carr'"
   ]
  },
  {
   "cell_type": "code",
   "execution_count": 179,
   "metadata": {
    "collapsed": false
   },
   "outputs": [
    {
     "data": {
      "text/plain": [
       "'rrac ecaR'"
      ]
     },
     "execution_count": 179,
     "metadata": {},
     "output_type": "execute_result"
    }
   ],
   "source": [
    "a[::-1]"
   ]
  },
  {
   "cell_type": "code",
   "execution_count": 182,
   "metadata": {
    "collapsed": true
   },
   "outputs": [],
   "source": [
    "b = 'racecar'"
   ]
  },
  {
   "cell_type": "code",
   "execution_count": 192,
   "metadata": {
    "collapsed": false
   },
   "outputs": [
    {
     "data": {
      "text/plain": [
       "'rrac ecaR'"
      ]
     },
     "execution_count": 192,
     "metadata": {},
     "output_type": "execute_result"
    }
   ],
   "source": [
    "a[::-1]"
   ]
  },
  {
   "cell_type": "code",
   "execution_count": 193,
   "metadata": {
    "collapsed": false,
    "scrolled": true
   },
   "outputs": [
    {
     "name": "stdout",
     "output_type": "stream",
     "text": [
      "(0, 1)\n",
      "(1, 2)\n",
      "(1, 3)\n",
      "(2, 3)\n",
      "(3, 4)\n",
      "(4, 5)\n",
      "(5, 6)\n",
      "(5, 7)\n",
      "(6, 7)\n",
      "(1, 3)\n"
     ]
    }
   ],
   "source": [
    "a = 'Race carr'\n",
    "b = 'rrac ecaR'\n",
    "max_value = (0,0)\n",
    "for i in range(0,len(a)+1):\n",
    "    n = i + 1\n",
    "    is_exit = True\n",
    "    while (is_exit == True):\n",
    "        if a[::-1].find(a[i:n])>0:\n",
    "            current_value = (i, n)\n",
    "            print (current_value)\n",
    "            if current_value[1] - current_value[0] > max_value[1] - max_value[0]:\n",
    "                max_value = current_value\n",
    "            n = n + 1\n",
    "        else:\n",
    "            is_exit = False\n",
    "\n",
    "print (max_value)\n",
    "\n",
    "            \n",
    "        "
   ]
  },
  {
   "cell_type": "code",
   "execution_count": 199,
   "metadata": {
    "collapsed": false,
    "scrolled": true
   },
   "outputs": [
    {
     "name": "stdout",
     "output_type": "stream",
     "text": [
      "rr\n",
      "rr\n"
     ]
    }
   ],
   "source": [
    "print ('Race carr'[7:9])\n",
    "print ('Race carr'[::-1][0:2])"
   ]
  },
  {
   "cell_type": "code",
   "execution_count": 202,
   "metadata": {
    "collapsed": false
   },
   "outputs": [
    {
     "name": "stdout",
     "output_type": "stream",
     "text": [
      "0\n",
      "1\n",
      "2\n",
      "3\n",
      "4\n",
      "5\n",
      "6\n",
      "7\n",
      "0\n",
      "1\n"
     ]
    }
   ],
   "source": [
    "for i in range(8):\n",
    "    print (i)\n",
    "    \n",
    "for i in (0,1):\n",
    "    print(i)"
   ]
  }
 ],
 "metadata": {
  "kernelspec": {
   "display_name": "Python 3",
   "language": "python",
   "name": "python3"
  },
  "language_info": {
   "codemirror_mode": {
    "name": "ipython",
    "version": 3
   },
   "file_extension": ".py",
   "mimetype": "text/x-python",
   "name": "python",
   "nbconvert_exporter": "python",
   "pygments_lexer": "ipython3",
   "version": "3.6.0"
  }
 },
 "nbformat": 4,
 "nbformat_minor": 2
}
