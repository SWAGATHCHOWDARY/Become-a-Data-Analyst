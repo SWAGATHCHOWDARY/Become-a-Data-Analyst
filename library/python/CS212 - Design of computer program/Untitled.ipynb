{
 "cells": [
  {
   "cell_type": "code",
   "execution_count": 19,
   "metadata": {
    "collapsed": false
   },
   "outputs": [
    {
     "name": "stdout",
     "output_type": "stream",
     "text": [
      "['2D', '2H', '3D', '3H', '4D', '4H', '5D', '5H', '6D', '6H', '7D', '7H', '8D', '8H', '9D', '9H', 'TD', 'TH', 'JD', 'JH', 'QD', 'QH', 'KD', 'KH', 'AD', 'AH']\n",
      "['2S', '2C', '3S', '3C', '4S', '4C', '5S', '5C', '6S', '6C', '7S', '7C', '8S', '8C', '9S', '9C', 'TS', 'TC', 'JS', 'JC', 'QS', 'QC', 'KS', 'KC', 'AS', 'AC']\n"
     ]
    }
   ],
   "source": [
    "import itertools\n",
    "\n",
    "hand = (\"6C 7C 8C 9C 7T ?R\").split()\n",
    "allranks = '23456789TJQKA'\n",
    "redcards = [r+s for r in allranks for s in 'DH']\n",
    "blackcards = [r+s for r in allranks for s in 'SC']\n",
    "\n",
    "print(redcards)\n",
    "print(blackcards)\n",
    "\n",
    "if \"?R\" in hand:\n",
    "    "
   ]
  }
 ],
 "metadata": {
  "kernelspec": {
   "display_name": "Python 3",
   "language": "python",
   "name": "python3"
  },
  "language_info": {
   "codemirror_mode": {
    "name": "ipython",
    "version": 3
   },
   "file_extension": ".py",
   "mimetype": "text/x-python",
   "name": "python",
   "nbconvert_exporter": "python",
   "pygments_lexer": "ipython3",
   "version": "3.6.0"
  }
 },
 "nbformat": 4,
 "nbformat_minor": 2
}
