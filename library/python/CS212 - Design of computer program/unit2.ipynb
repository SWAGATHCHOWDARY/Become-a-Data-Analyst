{
 "cells": [
  {
   "cell_type": "code",
   "execution_count": 4,
   "metadata": {
    "collapsed": false,
    "scrolled": false
   },
   "outputs": [],
   "source": [
    "import itertools\n",
    "houses = first, _, middle, _, _ = [1,2,3,4,5]\n",
    "orderings = list(itertools.permutations(houses))\n"
   ]
  },
  {
   "cell_type": "code",
   "execution_count": 51,
   "metadata": {
    "collapsed": false
   },
   "outputs": [
    {
     "name": "stdout",
     "output_type": "stream",
     "text": [
      "(1, 5)\n"
     ]
    }
   ],
   "source": [
    "import itertools\n",
    "def imright(h1, h2):\n",
    "    \"House h1 is immediately right of h2 if h1-h2 == 1.\"\n",
    "    return h1-h2 == 1\n",
    "\n",
    "def nextto(h1, h2):\n",
    "    \"Two houses are next to each other if they differ by 1.\"\n",
    "    return abs(h1-h2) == 1\n",
    "def zebra_puzzle():\n",
    "    houses = [first,_,middle,_,_] = [1,2,3,4,5]\n",
    "    orderings = list(itertools.permutations(houses))\n",
    "    return next((WATER,ZEBRA)\n",
    "        for(red, green, ivory, yellow, blue) in orderings\n",
    "        if imright(green, ivory)        #6\n",
    "        for (Englishman, Spaniard, Ukranian, Japanese, Norwegian) in orderings\n",
    "        if Englishman is red           #2\n",
    "        if Norwegian is first           #10\n",
    "        if nextto(Norwegian, blue)      #15\n",
    "        for (cofee, tea, milk, oj, WATER) in orderings\n",
    "        if cofee is green               #4\n",
    "        if Ukranian is tea              #5\n",
    "        if milk is middle               #9\n",
    "        for (OldGold, Kools, Chesterfields, LuckyStrike, Parliaments) in orderings\n",
    "        if Kools is yellow              #8\n",
    "        if LuckyStrike is oj            #13\n",
    "        if Japanese is Parliaments      #14\n",
    "        for (dog, snails, fox, horse, ZEBRA) in orderings\n",
    "        if Spaniard is dog              #3\n",
    "        if OldGold is snails            #7\n",
    "        if nextto(Chesterfields, fox)\n",
    "        if nextto(Kools, horse)\n",
    "    )\n",
    "\n",
    "print (zebra_puzzle())"
   ]
  },
  {
   "cell_type": "markdown",
   "metadata": {},
   "source": [
    "## yield 的用法"
   ]
  },
  {
   "cell_type": "code",
   "execution_count": 24,
   "metadata": {
    "collapsed": true
   },
   "outputs": [],
   "source": [
    "# ------------\n",
    "# User Instructions\n",
    "#\n",
    "# Define a function, all_ints(), that generates the \n",
    "# integers in the order 0, +1, -1, +2, -2, ...\n",
    "def ints(start, end = None):\n",
    "    i = start\n",
    "    while i <= end or end is None:\n",
    "        yield i\n",
    "        i = i + 1"
   ]
  },
  {
   "cell_type": "code",
   "execution_count": 28,
   "metadata": {
    "collapsed": false
   },
   "outputs": [],
   "source": [
    "#我的垃圾代码\n",
    "def all_ints():\n",
    "    \"Generate integers in the order 0, +1, -1, +2, -2, +3, -3, ...\"\n",
    "    # Your code here.\n",
    "    i = 0\n",
    "    end = None\n",
    "    count = 0\n",
    "    while end is None:\n",
    "        yield i\n",
    "        if i == 0:\n",
    "            i = i + 1\n",
    "        else:\n",
    "            if count==1:\n",
    "                i = -i + 1\n",
    "                count = 0\n",
    "            else:\n",
    "                i = -i\n",
    "                count = count + 1\n",
    "\n",
    "t = all_ints()"
   ]
  },
  {
   "cell_type": "code",
   "execution_count": 50,
   "metadata": {
    "collapsed": false
   },
   "outputs": [
    {
     "data": {
      "text/plain": [
       "11"
      ]
     },
     "execution_count": 50,
     "metadata": {},
     "output_type": "execute_result"
    }
   ],
   "source": [
    "next(t)"
   ]
  },
  {
   "cell_type": "code",
   "execution_count": 26,
   "metadata": {
    "collapsed": true
   },
   "outputs": [],
   "source": [
    "#老师的高级代码    \n",
    "def all_ints():\n",
    "    \"Generate integers in the order 0, +1, -1, +2, -2, +3, -3, ...\"\n",
    "    yield 0\n",
    "    for i in ints(1):\n",
    "        yield +i\n",
    "        yield -i"
   ]
  },
  {
   "cell_type": "code",
   "execution_count": 52,
   "metadata": {
    "collapsed": true
   },
   "outputs": [],
   "source": [
    "# -------------\n",
    "# User Instructions\n",
    "#\n",
    "# Write a function, solve(formula) that solves cryptarithmetic puzzles.\n",
    "# The input should be a formula like 'ODD + ODD == EVEN', and the \n",
    "# output should be a string with the digits filled in, or None if the\n",
    "# problem is not solvable.\n",
    "#\n",
    "# Note that you will not be able to run your code yet since the \n",
    "# program is incomplete. Please SUBMIT to see if you are correct."
   ]
  },
  {
   "cell_type": "code",
   "execution_count": 81,
   "metadata": {
    "collapsed": false
   },
   "outputs": [
    {
     "data": {
      "text/plain": [
       "'655 + 655 == 1310'"
      ]
     },
     "execution_count": 81,
     "metadata": {},
     "output_type": "execute_result"
    }
   ],
   "source": [
    "import string, re,itertools\n",
    "\n",
    "def solve(formula):\n",
    "    \"\"\"Given a formula like 'ODD + ODD == EVEN', fill in digits to solve it.\n",
    "    Input formula is a string; output is a digit-filled-in string or None.\"\"\"\n",
    "    for f in fill_in(formula):\n",
    "        if valid(f):\n",
    "            return f\n",
    "    \n",
    "def fill_in(formula):\n",
    "    \"Generate all possible fillings-in of letters in formula with digits.\"\n",
    "    #letters = set(formula.replace(\"+\",\"\").replace(\"=\",\"\").replace(\" \",\"\"))我的愚蠢解法，只能考虑加号\n",
    "    letters = ''.join(set(re.findall('[A-Z]', formula))) #should be a string\n",
    "    for digits in itertools.permutations('1234567890', len(letters)):\n",
    "        table = str.maketrans(letters, ''.join(digits))\n",
    "        yield formula.translate(table)\n",
    "    \n",
    "def valid(f):\n",
    "    \"\"\"Formula f is valid if and only if it has no \n",
    "    numbers with leading zero, and evals true.\"\"\"\n",
    "    try: \n",
    "        return not re.search(r'\\b0[0-9]', f) and eval(f) is True\n",
    "    except ArithmeticError:\n",
    "        return False\n",
    "    \n",
    "solve('ODD + ODD == EVEN')"
   ]
  },
  {
   "cell_type": "code",
   "execution_count": 69,
   "metadata": {
    "collapsed": false
   },
   "outputs": [],
   "source": [
    "import cProfile"
   ]
  },
  {
   "cell_type": "code",
   "execution_count": 79,
   "metadata": {
    "collapsed": false,
    "scrolled": false
   },
   "outputs": [
    {
     "name": "stdout",
     "output_type": "stream",
     "text": [
      "         3 function calls in 0.000 seconds\n",
      "\n",
      "   Ordered by: standard name\n",
      "\n",
      "   ncalls  tottime  percall  cumtime  percall filename:lineno(function)\n",
      "        1    0.000    0.000    0.000    0.000 <string>:1(<module>)\n",
      "        1    0.000    0.000    0.000    0.000 {built-in method builtins.exec}\n",
      "        1    0.000    0.000    0.000    0.000 {method 'disable' of '_lsprof.Profiler' objects}\n",
      "\n",
      "\n"
     ]
    }
   ],
   "source": [
    "cProfile.run(solve('ODD + ODD == EVEN'))"
   ]
  },
  {
   "cell_type": "code",
   "execution_count": null,
   "metadata": {
    "collapsed": true
   },
   "outputs": [],
   "source": [
    "def compile_word(word):\n",
    "    \"\"\"Compile a word of uppercase letters as numeric digits.\n",
    "    E.g., compile_word('YOU') => '(1*U+10*O+100*Y)'\n",
    "    Non-uppercase words unchanged: compile_word('+') => '+'\"\"\"\n",
    "    for i in range(0,len(word)):\n",
    "        word = word[::-1]\n",
    "        if re.findall('[A-Z]', word[i]):\n",
    "            result = result + str(10**i) + \"*\" + a[i]\n",
    "            if i != len(word)-1:\n",
    "                result = result+ \"+\"\n",
    "        else:\n",
    "            result = result+word[i]\n",
    "\n"
   ]
  },
  {
   "cell_type": "code",
   "execution_count": 124,
   "metadata": {
    "collapsed": false
   },
   "outputs": [
    {
     "name": "stdout",
     "output_type": "stream",
     "text": [
      "0\n",
      "1\n",
      "2\n",
      "1*U+10*O+100*Y\n"
     ]
    }
   ],
   "source": [
    "a = 'YOU'\n",
    "result =\"\"\n",
    "\n",
    "print (result)"
   ]
  },
  {
   "cell_type": "code",
   "execution_count": null,
   "metadata": {
    "collapsed": true
   },
   "outputs": [],
   "source": [
    "#\"Compile a word of uppercase letters as numeric digits.\n",
    "#    E.g., compile_word('YOU') => '(1*U+10*O+100*Y)'\n",
    "#    Non-uppercase words unchanged: compile_word('+') => '+'"
   ]
  },
  {
   "cell_type": "code",
   "execution_count": 144,
   "metadata": {
    "collapsed": false
   },
   "outputs": [],
   "source": [
    "#我的辣鸡代码\n",
    "def compile_word(word):\n",
    "    if re.findall('[A-Z]', word):\n",
    "        result = ''  \n",
    "        word = word[::-1]\n",
    "        for i in range(0,len(word)):\n",
    "            if re.findall('[A-Z]', word[i]):\n",
    "                print (word[i])\n",
    "                result = result + str(10**i) + \"*\" + word[i]\n",
    "                if i != len(word)-1:\n",
    "                    result = result+ \"+\"\n",
    "            else:\n",
    "                result = result+word[i]\n",
    "        return result\n",
    "    else:\n",
    "        return word"
   ]
  },
  {
   "cell_type": "code",
   "execution_count": 146,
   "metadata": {
    "collapsed": false
   },
   "outputs": [
    {
     "data": {
      "text/plain": [
       "'(1*U+10*O+100*Y)'"
      ]
     },
     "execution_count": 146,
     "metadata": {},
     "output_type": "execute_result"
    }
   ],
   "source": [
    "#老师的优秀代码\n",
    "def complie_word(word):\n",
    "    if word.isupper():\n",
    "        terms= [('%s*%s' % (10**i,d)) for (i,d) in enumerate(word[::-1])]\n",
    "        return \"(\"     +       \"+\".join(terms)    +     \")\"   #join就解决了是不是第一个要不加加号的问题，用加号连接，但是首尾不用加号\n",
    "    else:\n",
    "        return word\n",
    "\n",
    "complie_word('YOU')  "
   ]
  },
  {
   "cell_type": "raw",
   "metadata": {},
   "source": [
    ">>> choices = ['pizza', 'pasta', 'salad', 'nachos']\n",
    ">>> list(enumerate(choices))\n",
    "=> [(0, 'pizza'), (1, 'pasta'), (2, 'salad'), (3, 'nachos')]"
   ]
  },
  {
   "cell_type": "code",
   "execution_count": 171,
   "metadata": {
    "collapsed": false,
    "scrolled": false
   },
   "outputs": [
    {
     "name": "stdout",
     "output_type": "stream",
     "text": [
      "D\n",
      "D\n",
      "O\n",
      "D\n",
      "D\n",
      "O\n",
      "N\n",
      "E\n",
      "V\n",
      "E\n",
      "lambda O,V,D,N,E: 1*D+10*D+100*O + 1*D+10*D+100*O == 1*N+10*E+100*V+1000*E\n",
      "<function <lambda> at 0x0000020325F4D378>\n"
     ]
    },
    {
     "data": {
      "text/plain": [
       "'655 + 655 == 1310'"
      ]
     },
     "execution_count": 171,
     "metadata": {},
     "output_type": "execute_result"
    }
   ],
   "source": [
    "##final code\n",
    "import string, re,itertools\n",
    "\n",
    "def faster_solve(formula):\n",
    "    \"\"\"Given a formula like 'ODD + ODD == EVEN', fill in digits to solve it.\n",
    "    Input formula is a string; output is a digit-filled-in string or None.\"\"\"\n",
    "    f, letters = compile_formula(formula)\n",
    "    for digits in itertools.permutations((1,2,3,4,5,6,7,8,9,0), len(letters)):\n",
    "        #print (digits)\n",
    "        try:\n",
    "            #print (f(*digits))\n",
    "            if f(*digits) is True:\n",
    "                table = str.maketrans(letters, ''.join(map(str,digits)))\n",
    "                return formula.translate(table)\n",
    "        except ArithmeticError:\n",
    "            pass\n",
    "\n",
    "def compile_formula(formula, verbose = False):\n",
    "    letters = ''.join(set(re.findall('[A-Z]', formula)))\n",
    "    parms = ','.join(letters)\n",
    "    tokens = map(compile_word, re.split('([A-Z]+)', formula))\n",
    "    body = ''.join(tokens)\n",
    "    f = 'lambda %s: %s' % (parms, body)\n",
    "    print (f)\n",
    "    print (eval(f))\n",
    "    if verbose : print (f)\n",
    "    return eval(f),letters  #eval把str转换成运算\n",
    "\n",
    "        \n",
    "        \n",
    "def complie_word(word):\n",
    "    if word.isupper():\n",
    "        terms= [('%s*%s' % (10**i,d)) for (i,d) in enumerate(word[::-1])]\n",
    "        return \"(\"     +       \"+\".join(terms)    +     \")\"   #join就解决了是不是第一个要不加加号的问题，用加号连接，但是首尾不用加号\n",
    "    else:\n",
    "        return word\n",
    "    \n",
    "def valid(f):\n",
    "    \"\"\"Formula f is valid if and only if it has no \n",
    "    numbers with leading zero, and evals true.\"\"\"\n",
    "    try: \n",
    "        return not re.search(r'\\b0[0-9]', f) and eval(f) is True\n",
    "    except ArithmeticError:\n",
    "        return False\n",
    "    \n",
    "faster_solve('ODD + ODD == EVEN')"
   ]
  },
  {
   "cell_type": "code",
   "execution_count": 167,
   "metadata": {
    "collapsed": false
   },
   "outputs": [
    {
     "data": {
      "text/plain": [
       "True"
      ]
     },
     "execution_count": 167,
     "metadata": {},
     "output_type": "execute_result"
    }
   ],
   "source": [
    "a = lambda O,V,D,N,E: 1*D+10*D+100*O + 1*D+10*D+100*O == 1*N+10*E+100*V+1000*E\n",
    "a(6,3,5,0,1)"
   ]
  }
 ],
 "metadata": {
  "kernelspec": {
   "display_name": "Python 3",
   "language": "python",
   "name": "python3"
  },
  "language_info": {
   "codemirror_mode": {
    "name": "ipython",
    "version": 3
   },
   "file_extension": ".py",
   "mimetype": "text/x-python",
   "name": "python",
   "nbconvert_exporter": "python",
   "pygments_lexer": "ipython3",
   "version": "3.6.0"
  }
 },
 "nbformat": 4,
 "nbformat_minor": 2
}
