{
 "cells": [
  {
   "cell_type": "code",
   "execution_count": 4,
   "metadata": {
    "collapsed": true
   },
   "outputs": [],
   "source": [
    "# -----------\n",
    "# User Instructions\n",
    "# \n",
    "# Modify the card_ranks() function so that cards with\n",
    "# rank of ten, jack, queen, king, or ace (T, J, Q, K, A)\n",
    "# are handled correctly. Do this by mapping 'T' to 10, \n",
    "# 'J' to 11, etc..."
   ]
  },
  {
   "cell_type": "code",
   "execution_count": 1,
   "metadata": {
    "collapsed": false
   },
   "outputs": [
    {
     "name": "stdout",
     "output_type": "stream",
     "text": [
      "[14, 13, 4, 3]\n"
     ]
    }
   ],
   "source": [
    "#垃圾解法\n",
    "def card_ranks(cards):\n",
    "    \"Return a list of the ranks, sorted with higher first.\"\n",
    "    ranks = [r for r,s in cards]\n",
    "    \n",
    "    for i in ranks:\n",
    "        if i == \"T\":\n",
    "            ranks[ranks.index(i)] = 10\n",
    "        elif i == \"J\":\n",
    "            ranks[ranks.index(i)] = 11\n",
    "        elif i == \"Q\":\n",
    "            ranks[ranks.index(i)] = 12\n",
    "        elif i == \"K\":\n",
    "            ranks[ranks.index(i)] = 13\n",
    "        elif i == \"A\":\n",
    "            ranks[ranks.index(i)] = 14\n",
    "        else:\n",
    "            ranks[ranks.index(i)] = int(i)\n",
    "    \n",
    "    ranks.sort(reverse=True)\n",
    "    return ranks\n",
    "\n",
    "print (card_ranks(['AC', '3D', '4S', 'KH'])) #should output [14, 13, 4, 3]"
   ]
  },
  {
   "cell_type": "code",
   "execution_count": 5,
   "metadata": {
    "collapsed": false
   },
   "outputs": [
    {
     "name": "stdout",
     "output_type": "stream",
     "text": [
      "[14, 13, 4, 3]\n"
     ]
    }
   ],
   "source": [
    "# 酷炫解法\n",
    "def card_ranks(cards):\n",
    "    \"Return a list of the ranks, sorted with higher first.\"\n",
    "    ranks = [r for r,s in cards]\n",
    "    ranks = ['--23456789TJQKA'.index(i) for i in ranks]\n",
    "    ranks.sort(reverse=True)\n",
    "    return ranks\n",
    "\n",
    "print (card_ranks(['AC', '3D', '4S', 'KH'])) #should output [14, 13, 4, 3]"
   ]
  },
  {
   "cell_type": "code",
   "execution_count": 46,
   "metadata": {
    "collapsed": true
   },
   "outputs": [],
   "source": [
    "# -----------\n",
    "# User Instructions\n",
    "# \n",
    "# Define two functions, straight(ranks) and flush(hand).\n",
    "# Keep in mind that ranks will be ordered from largest\n",
    "# to smallest."
   ]
  },
  {
   "cell_type": "code",
   "execution_count": 41,
   "metadata": {
    "collapsed": false
   },
   "outputs": [
    {
     "name": "stdout",
     "output_type": "stream",
     "text": [
      "False\n",
      "True\n"
     ]
    }
   ],
   "source": [
    "# 我的解法\n",
    "def straight(ranks):\n",
    "    result = False\n",
    "    for i in list(range(0, 4)):\n",
    "        if ranks[i] - 1 == ranks[i+1]:\n",
    "            result = True\n",
    "        else:\n",
    "            return False\n",
    "    return result\n",
    "\n",
    "def flush(hand): #此解法参考了stackflows\n",
    "    a = [s for r,s in hand]\n",
    "    return a[1:] == a[:-1]\n",
    "\n",
    "print(straight([9,8,5,6,5]))\n",
    "\n",
    "sf = \"6C 7C 8C 9C TC\".split()\n",
    "print(flush(sf))"
   ]
  },
  {
   "cell_type": "code",
   "execution_count": 45,
   "metadata": {
    "collapsed": false,
    "scrolled": true
   },
   "outputs": [
    {
     "name": "stdout",
     "output_type": "stream",
     "text": [
      "False\n",
      "True\n"
     ]
    }
   ],
   "source": [
    "# 老师解法\n",
    "def straight(ranks):\n",
    "    return (max(ranks)-min(ranks)==4) and len(set(ranks)) == 5 #相减4且五个值都不同\n",
    "\n",
    "def flush(hand): #此解法参考了stackflows\n",
    "    a = [s for r,s in hand]\n",
    "    return len(set(a)) == 1 #只有一个唯一值，说明全部值相同\n",
    "\n",
    "print(straight([9,8,5,6,5]))\n",
    "\n",
    "sf = \"6C 7C 8C 9C TC\".split()\n",
    "print(flush(sf))"
   ]
  },
  {
   "cell_type": "code",
   "execution_count": null,
   "metadata": {
    "collapsed": true
   },
   "outputs": [],
   "source": []
  }
 ],
 "metadata": {
  "kernelspec": {
   "display_name": "Python 3",
   "language": "python",
   "name": "python3"
  },
  "language_info": {
   "codemirror_mode": {
    "name": "ipython",
    "version": 3
   },
   "file_extension": ".py",
   "mimetype": "text/x-python",
   "name": "python",
   "nbconvert_exporter": "python",
   "pygments_lexer": "ipython3",
   "version": "3.6.0"
  }
 },
 "nbformat": 4,
 "nbformat_minor": 2
}
