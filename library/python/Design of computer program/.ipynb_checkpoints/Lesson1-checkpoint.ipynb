{
 "cells": [
  {
   "cell_type": "code",
   "execution_count": 4,
   "metadata": {
    "collapsed": true
   },
   "outputs": [],
   "source": [
    "# -----------\n",
    "# User Instructions\n",
    "# \n",
    "# Modify the card_ranks() function so that cards with\n",
    "# rank of ten, jack, queen, king, or ace (T, J, Q, K, A)\n",
    "# are handled correctly. Do this by mapping 'T' to 10, \n",
    "# 'J' to 11, etc..."
   ]
  },
  {
   "cell_type": "code",
   "execution_count": 1,
   "metadata": {
    "collapsed": false
   },
   "outputs": [
    {
     "name": "stdout",
     "output_type": "stream",
     "text": [
      "[14, 13, 4, 3]\n"
     ]
    }
   ],
   "source": [
    "#垃圾解法\n",
    "def card_ranks(cards):\n",
    "    \"Return a list of the ranks, sorted with higher first.\"\n",
    "    ranks = [r for r,s in cards]\n",
    "    \n",
    "    for i in ranks:\n",
    "        if i == \"T\":\n",
    "            ranks[ranks.index(i)] = 10\n",
    "        elif i == \"J\":\n",
    "            ranks[ranks.index(i)] = 11\n",
    "        elif i == \"Q\":\n",
    "            ranks[ranks.index(i)] = 12\n",
    "        elif i == \"K\":\n",
    "            ranks[ranks.index(i)] = 13\n",
    "        elif i == \"A\":\n",
    "            ranks[ranks.index(i)] = 14\n",
    "        else:\n",
    "            ranks[ranks.index(i)] = int(i)\n",
    "    \n",
    "    ranks.sort(reverse=True)\n",
    "    return ranks\n",
    "\n",
    "print (card_ranks(['AC', '3D', '4S', 'KH'])) #should output [14, 13, 4, 3]"
   ]
  },
  {
   "cell_type": "code",
   "execution_count": 5,
   "metadata": {
    "collapsed": false
   },
   "outputs": [
    {
     "name": "stdout",
     "output_type": "stream",
     "text": [
      "[14, 13, 4, 3]\n"
     ]
    }
   ],
   "source": [
    "# 酷炫解法\n",
    "def card_ranks(cards):\n",
    "    \"Return a list of the ranks, sorted with higher first.\"\n",
    "    ranks = [r for r,s in cards]\n",
    "    ranks = ['--23456789TJQKA'.index(i) for i in ranks]\n",
    "    ranks.sort(reverse=True)\n",
    "    return ranks\n",
    "\n",
    "print (card_ranks(['AC', '3D', '4S', 'KH'])) #should output [14, 13, 4, 3]"
   ]
  },
  {
   "cell_type": "code",
   "execution_count": 46,
   "metadata": {
    "collapsed": true
   },
   "outputs": [],
   "source": [
    "# -----------\n",
    "# User Instructions\n",
    "# \n",
    "# Define two functions, straight(ranks) and flush(hand).\n",
    "# Keep in mind that ranks will be ordered from largest\n",
    "# to smallest."
   ]
  },
  {
   "cell_type": "code",
   "execution_count": 41,
   "metadata": {
    "collapsed": false
   },
   "outputs": [
    {
     "name": "stdout",
     "output_type": "stream",
     "text": [
      "False\n",
      "True\n"
     ]
    }
   ],
   "source": [
    "# 我的解法\n",
    "def straight(ranks):\n",
    "    result = False\n",
    "    for i in list(range(0, 4)):\n",
    "        if ranks[i] - 1 == ranks[i+1]:\n",
    "            result = True\n",
    "        else:\n",
    "            return False\n",
    "    return result\n",
    "\n",
    "def flush(hand): #此解法参考了stackflows\n",
    "    a = [s for r,s in hand]\n",
    "    return a[1:] == a[:-1]\n",
    "\n",
    "print(straight([9,8,5,6,5]))\n",
    "\n",
    "sf = \"6C 7C 8C 9C TC\".split()\n",
    "print(flush(sf))"
   ]
  },
  {
   "cell_type": "code",
   "execution_count": 45,
   "metadata": {
    "collapsed": false,
    "scrolled": true
   },
   "outputs": [
    {
     "name": "stdout",
     "output_type": "stream",
     "text": [
      "False\n",
      "True\n"
     ]
    }
   ],
   "source": [
    "# 老师解法\n",
    "def straight(ranks):\n",
    "    return (max(ranks)-min(ranks)==4) and len(set(ranks)) == 5 #相减4且五个值都不同\n",
    "\n",
    "def flush(hand): #此解法参考了stackflows\n",
    "    a = [s for r,s in hand]\n",
    "    return len(set(a)) == 1 #只有一个唯一值，说明全部值相同\n",
    "\n",
    "print(straight([9,8,5,6,5]))\n",
    "\n",
    "sf = \"6C 7C 8C 9C TC\".split()\n",
    "print(flush(sf))"
   ]
  },
  {
   "cell_type": "code",
   "execution_count": 18,
   "metadata": {
    "collapsed": false
   },
   "outputs": [
    {
     "name": "stdout",
     "output_type": "stream",
     "text": [
      "9\n",
      "None\n"
     ]
    }
   ],
   "source": [
    "def kind(n, ranks):   \n",
    "    \"\"\"Return the first rank that this hand has exactly n of.\n",
    "    Return None if there is no n-of-a-kind in the hand.\"\"\"\n",
    "    # Your code here.\n",
    "    count = {}\n",
    "    a = set(ranks)\n",
    "    for i in a:\n",
    "        count[i] = 0\n",
    "        for item in ranks:\n",
    "            if i == item:\n",
    "                count[i] = count[i]+1\n",
    "    for i in count:\n",
    "        if count[i] == n:\n",
    "            return i\n",
    "    return None\n",
    "\n",
    "fk = [9,9,9,9,7]\n",
    "print(kind(4,fk))\n",
    "print(kind(3,fk))"
   ]
  },
  {
   "cell_type": "code",
   "execution_count": 19,
   "metadata": {
    "collapsed": false
   },
   "outputs": [
    {
     "name": "stdout",
     "output_type": "stream",
     "text": [
      "9\n",
      "None\n"
     ]
    }
   ],
   "source": [
    "# 优秀解法\n",
    "def kind(n, ranks):   \n",
    "    \"\"\"Return the first rank that this hand has exactly n of.\n",
    "    Return None if there is no n-of-a-kind in the hand.\"\"\"\n",
    "    for i in ranks:\n",
    "        if ranks.count(i) == n: return i\n",
    "    return None\n",
    "print(kind(4,fk))\n",
    "print(kind(3,fk))"
   ]
  },
  {
   "cell_type": "code",
   "execution_count": 31,
   "metadata": {
    "collapsed": false
   },
   "outputs": [
    {
     "name": "stdout",
     "output_type": "stream",
     "text": [
      "None\n"
     ]
    }
   ],
   "source": [
    "#垃圾解法\n",
    "def two_pair(ranks):\n",
    "    \"\"\"If there are two pair, return the two ranks as a\n",
    "    tuple: (highest, lowest); otherwise return None.\"\"\"\n",
    "    # Your code here.\n",
    "    count = 0\n",
    "    a = []\n",
    "    for r in ranks:\n",
    "        if r not in a:\n",
    "            if ranks.count(r) == 2:\n",
    "                count = count + 1\n",
    "                a.append(r)\n",
    "    if count == 2:\n",
    "        return (max(a), min(a))\n",
    "    else:\n",
    "        return None\n",
    "    \n",
    "c = [9,9,1,8,7]\n",
    "print(two_pair(c))"
   ]
  },
  {
   "cell_type": "code",
   "execution_count": 30,
   "metadata": {
    "collapsed": false
   },
   "outputs": [
    {
     "name": "stdout",
     "output_type": "stream",
     "text": [
      "(9, 8)\n"
     ]
    }
   ],
   "source": [
    "#老师解法\n",
    "def two_pair(ranks):\n",
    "    \"\"\"If there are two pair, return the two ranks as a\n",
    "    tuple: (highest, lowest); otherwise return None.\"\"\"\n",
    "    # Your code here.\n",
    "    pair = kind(2, ranks)\n",
    "    low_pair = kind(2, list(reversed(ranks)))\n",
    "    if pair and low_pair != pair:\n",
    "        return (pair, low_pair)\n",
    "    else:\n",
    "        return None\n",
    "    \n",
    "c = [9,9,8,8,7]\n",
    "print(two_pair(c))"
   ]
  },
  {
   "cell_type": "code",
   "execution_count": 9,
   "metadata": {
    "collapsed": false
   },
   "outputs": [
    {
     "data": {
      "text/plain": [
       "[5, 4, 3, 2, 1]"
      ]
     },
     "execution_count": 9,
     "metadata": {},
     "output_type": "execute_result"
    }
   ],
   "source": [
    "#一般写法\n",
    "def card_ranks(hand):\n",
    "    \"Return a list of the ranks, sorted with higher first.\"\n",
    "    ranks = ['--23456789TJQKA'.index(r) for r, s in hand]\n",
    "    ranks.sort(reverse = True)\n",
    "    if ranks == [14,5,4,3,2]:\n",
    "        ranks = [5,4,3,2,1]\n",
    "    return ranks\n",
    "\n",
    "al = \"AC 2D 4H 3D 5S\".split() \n",
    "card_ranks(al)"
   ]
  },
  {
   "cell_type": "code",
   "execution_count": 10,
   "metadata": {
    "collapsed": false
   },
   "outputs": [
    {
     "data": {
      "text/plain": [
       "[5, 4, 3, 2, 1]"
      ]
     },
     "execution_count": 10,
     "metadata": {},
     "output_type": "execute_result"
    }
   ],
   "source": [
    "#牛逼写法\n",
    "def card_ranks(hand):\n",
    "    \"Return a list of the ranks, sorted with higher first.\"\n",
    "    ranks = ['--23456789TJQKA'.index(r) for r, s in hand]\n",
    "    ranks.sort(reverse = True)\n",
    "    return [5,4,3,2,1] if ranks == [14,5,4,3,2] else ranks\n",
    "\n",
    "al = \"AC 2D 4H 3D 5S\".split() \n",
    "card_ranks(al)"
   ]
  },
  {
   "cell_type": "code",
   "execution_count": 27,
   "metadata": {
    "collapsed": false
   },
   "outputs": [],
   "source": [
    "\n",
    "# -----------\n",
    "# User Instructions\n",
    "# \n",
    "# Write a function, allmax(iterable, key=None), that returns\n",
    "# a list of all items equal to the max of the iterable, \n",
    "# according to the function specified by key. \n",
    "\n",
    "#我的莫名其妙解法\n",
    "def poker(hands):\n",
    "    \"Return a list of winning hands: poker([hand,...]) => [hand,...]\"\n",
    "    return allmax(hands, key=hand_rank)\n",
    "\n",
    "def allmax(iterable, key=None):\n",
    "    \"Return a list of all items equal to the max of the iterable.\"\n",
    "    # Your code here.\n",
    "    return [hand for hand in iterable if card_ranks(hand) == card_ranks(max(iterable,key=hand_rank))]\n",
    "\n",
    "def hand_rank(hand):\n",
    "    \"Return a value indicating the ranking of a hand.\"\n",
    "    ranks = card_ranks(hand) \n",
    "    if straight(ranks) and flush(hand):\n",
    "        return (8, max(ranks))\n",
    "    elif kind(4, ranks):\n",
    "        return (7, kind(4, ranks), kind(1, ranks))\n",
    "    elif kind(3, ranks) and kind(2, ranks):\n",
    "        return (6, kind(3, ranks), kind(2, ranks))\n",
    "    elif flush(hand):\n",
    "        return (5, ranks)\n",
    "    elif straight(ranks):\n",
    "        return (4, max(ranks))\n",
    "    elif kind(3, ranks):\n",
    "        return (3, kind(3, ranks), ranks)\n",
    "    elif two_pair(ranks):\n",
    "        return (2, two_pair(ranks), ranks)\n",
    "    elif kind(2, ranks):\n",
    "        return (1, kind(2, ranks), ranks)\n",
    "    else:\n",
    "        return (0, ranks)\n",
    "\n",
    "def card_ranks(hand):\n",
    "    \"Return a list of the ranks, sorted with higher first.\"\n",
    "    ranks = ['--23456789TJQKA'.index(r) for r, s in hand]\n",
    "    ranks.sort(reverse = True)\n",
    "    return [5, 4, 3, 2, 1] if (ranks == [14, 5, 4, 3, 2]) else ranks\n",
    "\n",
    "def flush(hand):\n",
    "    \"Return True if all the cards have the same suit.\"\n",
    "    suits = [s for r,s in hand]\n",
    "    return len(set(suits)) == 1\n",
    "\n",
    "def straight(ranks):\n",
    "    \"Return True if the ordered ranks form a 5-card straight.\"\n",
    "    return (max(ranks)-min(ranks) == 4) and len(set(ranks)) == 5\n",
    "\n",
    "def kind(n, ranks):\n",
    "    \"\"\"Return the first rank that this hand has exactly n-of-a-kind of.\n",
    "    Return None if there is no n-of-a-kind in the hand.\"\"\"\n",
    "    for r in ranks:\n",
    "        if ranks.count(r) == n: return r\n",
    "    return None\n",
    "\n",
    "def two_pair(ranks):\n",
    "    \"If there are two pair here, return the two ranks of the two pairs, else None.\"\n",
    "    pair = kind(2, ranks)\n",
    "    lowpair = kind(2, list(reversed(ranks)))\n",
    "    if pair and lowpair != pair:\n",
    "        return (pair, lowpair)\n",
    "    else:\n",
    "        return None\n",
    "\n",
    "sf1 = \"6C 7C 8C 9C TC\".split() # Straight Flush\n",
    "sf2 = \"6D 7D 8D 9D TD\".split() # Straight Flush\n",
    "fk = \"9D 9H 9S 9C 7D\".split() # Four of a Kind\n",
    "fh = \"TD TC TH 7C 7D\".split() # Full House\n",
    "\n",
    "print (poker([sf1, sf2, fk, fh]))\n",
    "\n",
    "print (poker([sf1]))\n",
    "print (poker([sf2]))"
   ]
  },
  {
   "cell_type": "code",
   "execution_count": 28,
   "metadata": {
    "collapsed": false
   },
   "outputs": [
    {
     "name": "stdout",
     "output_type": "stream",
     "text": [
      "[['6C', '7C', '8C', '9C', 'TC'], ['6D', '7D', '8D', '9D', 'TD']]\n",
      "[['6C', '7C', '8C', '9C', 'TC']]\n",
      "[['6D', '7D', '8D', '9D', 'TD']]\n"
     ]
    }
   ],
   "source": [
    "print (poker([sf1, sf2, fk, fh]))\n",
    "\n",
    "print (poker([sf1]))\n",
    "print (poker([sf2]))"
   ]
  },
  {
   "cell_type": "code",
   "execution_count": 29,
   "metadata": {
    "collapsed": true
   },
   "outputs": [],
   "source": [
    "#老师的解法，竟然比我复杂\n",
    "# -----------\n",
    "# User Instructions\n",
    "# \n",
    "# Write a function, allmax(iterable, key=None), that returns\n",
    "# a list of all items equal to the max of the iterable, \n",
    "# according to the function specified by key. \n",
    "\n",
    "def poker(hands):\n",
    "    \"Return a list of winning hands: poker([hand,...]) => [hand,...]\"\n",
    "    return allmax(hands, key=hand_rank)\n",
    "\n",
    "def allmax(iterable, key=None):\n",
    "    \"Return a list of all items equal to the max of the iterable.\"\n",
    "    # Your code here.\n",
    "    result, maxval = [], None\n",
    "    key = key or (lambda x: x)\n",
    "    for x in iterable:\n",
    "        xval = key(x)\n",
    "        if not result or xval > maxval:\n",
    "            result, xval = [x], maxval\n",
    "        elif xval == maxval:\n",
    "            result.append(x)\n",
    "    return result\n",
    "\n",
    "def hand_rank(hand):\n",
    "    \"Return a value indicating the ranking of a hand.\"\n",
    "    ranks = card_ranks(hand) \n",
    "    if straight(ranks) and flush(hand):\n",
    "        return (8, max(ranks))\n",
    "    elif kind(4, ranks):\n",
    "        return (7, kind(4, ranks), kind(1, ranks))\n",
    "    elif kind(3, ranks) and kind(2, ranks):\n",
    "        return (6, kind(3, ranks), kind(2, ranks))\n",
    "    elif flush(hand):\n",
    "        return (5, ranks)\n",
    "    elif straight(ranks):\n",
    "        return (4, max(ranks))\n",
    "    elif kind(3, ranks):\n",
    "        return (3, kind(3, ranks), ranks)\n",
    "    elif two_pair(ranks):\n",
    "        return (2, two_pair(ranks), ranks)\n",
    "    elif kind(2, ranks):\n",
    "        return (1, kind(2, ranks), ranks)\n",
    "    else:\n",
    "        return (0, ranks)\n",
    "\n",
    "def card_ranks(hand):\n",
    "    \"Return a list of the ranks, sorted with higher first.\"\n",
    "    ranks = ['--23456789TJQKA'.index(r) for r, s in hand]\n",
    "    ranks.sort(reverse = True)\n",
    "    return [5, 4, 3, 2, 1] if (ranks == [14, 5, 4, 3, 2]) else ranks\n",
    "\n",
    "def flush(hand):\n",
    "    \"Return True if all the cards have the same suit.\"\n",
    "    suits = [s for r,s in hand]\n",
    "    return len(set(suits)) == 1\n",
    "\n",
    "def straight(ranks):\n",
    "    \"Return True if the ordered ranks form a 5-card straight.\"\n",
    "    return (max(ranks)-min(ranks) == 4) and len(set(ranks)) == 5\n",
    "\n",
    "def kind(n, ranks):\n",
    "    \"\"\"Return the first rank that this hand has exactly n-of-a-kind of.\n",
    "    Return None if there is no n-of-a-kind in the hand.\"\"\"\n",
    "    for r in ranks:\n",
    "        if ranks.count(r) == n: return r\n",
    "    return None\n",
    "\n",
    "def two_pair(ranks):\n",
    "    \"If there are two pair here, return the two ranks of the two pairs, else None.\"\n",
    "    pair = kind(2, ranks)\n",
    "    lowpair = kind(2, list(reversed(ranks)))\n",
    "    if pair and lowpair != pair:\n",
    "        return (pair, lowpair)\n",
    "    else:\n",
    "        return None\n",
    "\n",
    "sf1 = \"6C 7C 8C 9C TC\".split() # Straight Flush\n",
    "sf2 = \"6D 7D 8D 9D TD\".split() # Straight Flush\n",
    "fk = \"9D 9H 9S 9C 7D\".split() # Four of a Kind\n",
    "fh = \"TD TC TH 7C 7D\".split() # Full House"
   ]
  }
 ],
 "metadata": {
  "anaconda-cloud": {},
  "kernelspec": {
   "display_name": "Python 3",
   "language": "python",
   "name": "python3"
  },
  "language_info": {
   "codemirror_mode": {
    "name": "ipython",
    "version": 3
   },
   "file_extension": ".py",
   "mimetype": "text/x-python",
   "name": "python",
   "nbconvert_exporter": "python",
   "pygments_lexer": "ipython3",
   "version": "3.6.0"
  }
 },
 "nbformat": 4,
 "nbformat_minor": 2
}
