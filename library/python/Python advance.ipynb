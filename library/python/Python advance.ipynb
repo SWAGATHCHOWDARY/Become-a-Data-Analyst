{
 "cells": [
  {
   "cell_type": "markdown",
   "metadata": {},
   "source": [
    "## 匿名函数"
   ]
  },
  {
   "cell_type": "code",
   "execution_count": 10,
   "metadata": {
    "collapsed": false
   },
   "outputs": [
    {
     "name": "stdout",
     "output_type": "stream",
     "text": [
      "['test', 'str', 'END']\n"
     ]
    }
   ],
   "source": [
    "s =  filter(lambda s : s and len(s.strip())>0, ['test', None, '', 'str', '  ', 'END'])\n",
    "print s"
   ]
  },
  {
   "cell_type": "code",
   "execution_count": 11,
   "metadata": {
    "collapsed": false,
    "scrolled": true
   },
   "outputs": [
    {
     "data": {
      "text/plain": [
       "[1, 4, 9, 16, 25, 36, 49, 64, 81]"
      ]
     },
     "execution_count": 11,
     "metadata": {},
     "output_type": "execute_result"
    }
   ],
   "source": [
    " map(lambda x: x * x, [1, 2, 3, 4, 5, 6, 7, 8, 9])"
   ]
  },
  {
   "cell_type": "code",
   "execution_count": 12,
   "metadata": {
    "collapsed": false,
    "scrolled": true
   },
   "outputs": [
    {
     "data": {
      "text/plain": [
       "[9, 5, 3, 1, 0]"
      ]
     },
     "execution_count": 12,
     "metadata": {},
     "output_type": "execute_result"
    }
   ],
   "source": [
    "sorted([1, 3, 9, 5, 0], lambda x,y: -cmp(x,y))"
   ]
  },
  {
   "cell_type": "markdown",
   "metadata": {},
   "source": [
    "### 装饰器"
   ]
  },
  {
   "cell_type": "code",
   "execution_count": 2,
   "metadata": {
    "collapsed": false
   },
   "outputs": [
    {
     "name": "stdout",
     "output_type": "stream",
     "text": [
      "call now():\n",
      "2015-3-25\n"
     ]
    }
   ],
   "source": [
    "def log(func):\n",
    "    def wrapper(*args, **kw):\n",
    "        print('call %s():' % func.__name__)\n",
    "        return func(*args, **kw)\n",
    "    return wrapper\n",
    "\n",
    "@log\n",
    "def now():\n",
    "    print('2015-3-25')\n",
    "    \n",
    "now()"
   ]
  },
  {
   "cell_type": "code",
   "execution_count": 18,
   "metadata": {
    "collapsed": false
   },
   "outputs": [
    {
     "name": "stdout",
     "output_type": "stream",
     "text": [
      "call factorial() in 0.000000s\n",
      "3628800\n"
     ]
    }
   ],
   "source": [
    "import time\n",
    "\n",
    "def performance(f):\n",
    "    def fn(*args, **kw):\n",
    "        t1 = time.time()\n",
    "        r = f(*args, **kw)\n",
    "        t2 = time.time()\n",
    "        print 'call %s() in %fs' % (f.__name__, (t2 - t1))\n",
    "        return r\n",
    "    return fn\n",
    "    \n",
    "\n",
    "@performance\n",
    "def factorial(n):\n",
    "    return reduce(lambda x,y: x*y, range(1, n+1))\n",
    "\n",
    "print factorial(10)"
   ]
  },
  {
   "cell_type": "markdown",
   "metadata": {},
   "source": [
    "这两个是python中的可变参数。*args表示任何多个无名参数，它是一个tuple；**kwargs表示关键字参数，它是一个dict。并且同时使用*args和**kwargs时，必须*args参数列要在**kwargs前"
   ]
  },
  {
   "cell_type": "code",
   "execution_count": 8,
   "metadata": {
    "collapsed": false
   },
   "outputs": [
    {
     "name": "stdout",
     "output_type": "stream",
     "text": [
      "Adam\n",
      "Bisa\n",
      "Cart\n"
     ]
    }
   ],
   "source": [
    "class Person(object):\n",
    "    pass\n",
    "\n",
    "p1 = Person()\n",
    "p1.name = 'Cart'\n",
    "\n",
    "p2 = Person()\n",
    "p2.name = 'Adam'\n",
    "\n",
    "p3 = Person()\n",
    "p3.name = 'Bisa'\n",
    "\n",
    "L1 = [p1, p2, p3]\n",
    "L2 = sorted(L1,key = lambda x:x.name)\n",
    "\n",
    "print L2[0].name\n",
    "print L2[1].name\n",
    "print L2[2].name"
   ]
  },
  {
   "cell_type": "code",
   "execution_count": 15,
   "metadata": {
    "collapsed": false,
    "scrolled": true
   },
   "outputs": [
    {
     "name": "stdout",
     "output_type": "stream",
     "text": [
      "1\n",
      "2\n",
      "3\n"
     ]
    }
   ],
   "source": [
    "class Person(object):\n",
    "    count = 0\n",
    "    def __init__(self,name):\n",
    "        self.name = name\n",
    "        Person.count = Person.count + 1\n",
    "\n",
    "p1 = Person('Bob')\n",
    "print Person.count\n",
    "\n",
    "p2 = Person('Alice')\n",
    "print Person.count\n",
    "\n",
    "p3 = Person('Tim')\n",
    "print Person.count"
   ]
  },
  {
   "cell_type": "code",
   "execution_count": 17,
   "metadata": {
    "collapsed": false
   },
   "outputs": [
    {
     "name": "stdout",
     "output_type": "stream",
     "text": [
      "china\n"
     ]
    }
   ],
   "source": [
    "class people:\n",
    "    country = 'china'\n",
    "    #类方法，用classmethod来进行修饰    \n",
    "    @classmethod\n",
    "    def getCountry(cls):\n",
    "        return cls.country \n",
    "p = people()\n",
    "print p.getCountry()    #可以用过实例对象引用print people.getCountry()    #可以通过类对象引用"
   ]
  },
  {
   "cell_type": "code",
   "execution_count": 19,
   "metadata": {
    "collapsed": false
   },
   "outputs": [
    {
     "name": "stdout",
     "output_type": "stream",
     "text": [
      "china\n",
      "japan\n",
      "japan\n"
     ]
    }
   ],
   "source": [
    "class people:\n",
    "    country = 'china'\n",
    "    #类方法，用classmethod来进行修饰    \n",
    "    @classmethod    \n",
    "    def getCountry(cls):        \n",
    "        return cls.country      \n",
    "    @classmethod    \n",
    "    def setCountry(cls,country):\n",
    "        cls.country = country\n",
    "         \n",
    " \n",
    "p = people()\n",
    "print p.getCountry()    #可以用过实例对象引用print people.getCountry()    #可以通过类对象引用\n",
    "p.setCountry('japan') \n",
    "print p.getCountry()   \n",
    "print people.getCountry()"
   ]
  }
 ],
 "metadata": {
  "anaconda-cloud": {},
  "kernelspec": {
   "display_name": "Python [default]",
   "language": "python",
   "name": "python2"
  },
  "language_info": {
   "codemirror_mode": {
    "name": "ipython",
    "version": 2
   },
   "file_extension": ".py",
   "mimetype": "text/x-python",
   "name": "python",
   "nbconvert_exporter": "python",
   "pygments_lexer": "ipython2",
   "version": "2.7.12"
  }
 },
 "nbformat": 4,
 "nbformat_minor": 1
}
