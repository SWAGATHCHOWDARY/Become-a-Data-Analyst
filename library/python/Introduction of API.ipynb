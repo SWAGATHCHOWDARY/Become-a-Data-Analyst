{
 "cells": [
  {
   "cell_type": "markdown",
   "metadata": {},
   "source": [
    "# API\n",
    "> python3"
   ]
  },
  {
   "cell_type": "code",
   "execution_count": 4,
   "metadata": {
    "collapsed": false,
    "scrolled": true
   },
   "outputs": [
    {
     "name": "stdout",
     "output_type": "stream",
     "text": [
      "{'iss_position': {'longitude': '-100.6563', 'latitude': '49.6516'}, 'timestamp': 1487700327, 'message': 'success'}\n"
     ]
    }
   ],
   "source": [
    "import requests\n",
    "response = requests.get(\"http://api.open-notify.org/iss-now.json\")\n",
    "data = response.json()\n",
    "print (data)"
   ]
  },
  {
   "cell_type": "code",
   "execution_count": 5,
   "metadata": {
    "collapsed": false
   },
   "outputs": [
    {
     "name": "stdout",
     "output_type": "stream",
     "text": [
      "6\n",
      "{'people': [{'craft': 'ISS', 'name': 'Sergey Rizhikov'}, {'craft': 'ISS', 'name': 'Andrey Borisenko'}, {'craft': 'ISS', 'name': 'Shane Kimbrough'}, {'craft': 'ISS', 'name': 'Oleg Novitskiy'}, {'craft': 'ISS', 'name': 'Thomas Pesquet'}, {'craft': 'ISS', 'name': 'Peggy Whitson'}], 'message': 'success', 'number': 6}\n"
     ]
    }
   ],
   "source": [
    "\n",
    "# Get the response from the API endpoint.\n",
    "response = requests.get(\"http://api.open-notify.org/astros.json\")\n",
    "data = response.json()\n",
    "\n",
    "# 9 people are currently in space.\n",
    "print (data[\"number\"])\n",
    "print (data)"
   ]
  },
  {
   "cell_type": "code",
   "execution_count": 14,
   "metadata": {
    "collapsed": false,
    "scrolled": false
   },
   "outputs": [
    {
     "name": "stdout",
     "output_type": "stream",
     "text": [
      "{'rating': {'max': 10, 'average': 7.9, 'stars': '40', 'min': 0}, 'reviews_count': 3, 'wish_count': 1383, 'douban_site': '', 'year': '2000', 'images': {'small': 'https://img3.doubanio.com/view/movie_poster_cover/ipst/public/p468924505.jpg', 'large': 'https://img3.doubanio.com/view/movie_poster_cover/lpst/public/p468924505.jpg', 'medium': 'https://img3.doubanio.com/view/movie_poster_cover/spst/public/p468924505.jpg'}, 'alt': 'https://movie.douban.com/subject/1764795/', 'id': '1764795', 'mobile_url': 'https://movie.douban.com/subject/1764795/mobile', 'title': '脏男孩的世界', 'do_count': None, 'share_url': 'https://m.douban.com/movie/subject/1764795', 'seasons_count': None, 'schedule_url': '', 'episodes_count': None, 'countries': ['美国'], 'genres': ['动画', '短片'], 'collect_count': 492, 'casts': [{'alt': 'https://movie.douban.com/celebrity/1142171/', 'avatars': {'small': 'https://img1.doubanio.com/f/movie/ca527386eb8c4e325611e22dfcb04cc116d6b423/pics/movie/celebrity-default-small.png', 'large': 'https://img3.doubanio.com/f/movie/63acc16ca6309ef191f0378faf793d1096a3e606/pics/movie/celebrity-default-large.png', 'medium': 'https://img1.doubanio.com/f/movie/8dd0c794499fe925ae2ae89ee30cd225750457b4/pics/movie/celebrity-default-medium.png'}, 'name': 'Glenn Shadix', 'id': '1142171'}, {'alt': 'https://movie.douban.com/celebrity/1123475/', 'avatars': {'small': 'https://img1.doubanio.com/img/celebrity/small/14108.jpg', 'large': 'https://img1.doubanio.com/img/celebrity/large/14108.jpg', 'medium': 'https://img1.doubanio.com/img/celebrity/medium/14108.jpg'}, 'name': '丽莎·玛丽', 'id': '1123475'}, {'alt': None, 'avatars': None, 'name': 'Will Amato', 'id': None}, {'alt': 'https://movie.douban.com/celebrity/1032888/', 'avatars': {'small': 'https://img1.doubanio.com/f/movie/ca527386eb8c4e325611e22dfcb04cc116d6b423/pics/movie/celebrity-default-small.png', 'large': 'https://img3.doubanio.com/f/movie/63acc16ca6309ef191f0378faf793d1096a3e606/pics/movie/celebrity-default-large.png', 'medium': 'https://img1.doubanio.com/f/movie/8dd0c794499fe925ae2ae89ee30cd225750457b4/pics/movie/celebrity-default-medium.png'}, 'name': 'Michael Viner', 'id': '1032888'}], 'current_season': None, 'original_title': 'The World of Stainboy', 'summary': '', 'subtype': 'movie', 'directors': [{'alt': 'https://movie.douban.com/celebrity/1019002/', 'avatars': {'small': 'https://img3.doubanio.com/img/celebrity/small/44690.jpg', 'large': 'https://img3.doubanio.com/img/celebrity/large/44690.jpg', 'medium': 'https://img3.doubanio.com/img/celebrity/medium/44690.jpg'}, 'name': '蒂姆·波顿', 'id': '1019002'}], 'comments_count': 79, 'ratings_count': 291, 'aka': ['脏男孩的世界']}\n"
     ]
    }
   ],
   "source": [
    "response = requests.get(\"https://api.douban.com//v2/movie/subject/1764795\")\n",
    "data = response.json()\n",
    "print (data)  #python3下中文显示正常"
   ]
  },
  {
   "cell_type": "code",
   "execution_count": 20,
   "metadata": {
    "collapsed": false
   },
   "outputs": [],
   "source": [
    "for i in range(1764880,1764900):\n",
    "    response = requests.get(\"https://api.douban.com//v2/movie/subject/%s\" % i)\n",
    "    data = response.json()\n",
    "    if 'rating' in data:\n",
    "        if 'average' in data['rating']:\n",
    "            print ( \"标题：\", data['title'],\"评分\",data['rating']['average'])"
   ]
  }
 ],
 "metadata": {
  "anaconda-cloud": {},
  "kernelspec": {
   "display_name": "Python 3",
   "language": "python",
   "name": "python3"
  },
  "language_info": {
   "codemirror_mode": {
    "name": "ipython",
    "version": 3
   },
   "file_extension": ".py",
   "mimetype": "text/x-python",
   "name": "python",
   "nbconvert_exporter": "python",
   "pygments_lexer": "ipython3",
   "version": "3.6.0"
  }
 },
 "nbformat": 4,
 "nbformat_minor": 2
}
