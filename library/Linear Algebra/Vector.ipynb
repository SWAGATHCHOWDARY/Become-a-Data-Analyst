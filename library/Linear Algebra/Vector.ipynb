{
 "cells": [
  {
   "cell_type": "code",
   "execution_count": 1,
   "metadata": {
    "collapsed": false,
    "deletable": true,
    "editable": true
   },
   "outputs": [],
   "source": [
    "import vector"
   ]
  },
  {
   "cell_type": "code",
   "execution_count": 2,
   "metadata": {
    "collapsed": false,
    "deletable": true,
    "editable": true
   },
   "outputs": [
    {
     "name": "stdout",
     "output_type": "stream",
     "text": [
      "Vector: (1, 2, 3)\n"
     ]
    }
   ],
   "source": [
    "my_vector = vector.Vector([1,2,3])\n",
    "print(my_vector)"
   ]
  },
  {
   "cell_type": "code",
   "execution_count": 3,
   "metadata": {
    "collapsed": true,
    "deletable": true,
    "editable": true
   },
   "outputs": [],
   "source": [
    "my_vector2 = vector.Vector([1,2,3])\n",
    "my_vector3 = vector.Vector([-1,2,3])"
   ]
  },
  {
   "cell_type": "code",
   "execution_count": 4,
   "metadata": {
    "collapsed": false,
    "deletable": true,
    "editable": true
   },
   "outputs": [
    {
     "name": "stdout",
     "output_type": "stream",
     "text": [
      "True\n",
      "False\n"
     ]
    }
   ],
   "source": [
    "print(my_vector==my_vector2)\n",
    "print(my_vector2==my_vector3)"
   ]
  },
  {
   "cell_type": "code",
   "execution_count": 5,
   "metadata": {
    "collapsed": false,
    "deletable": true,
    "editable": true
   },
   "outputs": [
    {
     "name": "stdout",
     "output_type": "stream",
     "text": [
      "Vector: (7.089, -7.229999999999999)\n"
     ]
    }
   ],
   "source": [
    "v = vector.Vector([8.218,-9.341])\n",
    "w = vector.Vector([-1.129,2.111])\n",
    "print(v.plus(w))"
   ]
  },
  {
   "cell_type": "code",
   "execution_count": 6,
   "metadata": {
    "collapsed": false,
    "deletable": true,
    "editable": true
   },
   "outputs": [
    {
     "name": "stdout",
     "output_type": "stream",
     "text": [
      "7.440282924728065\n"
     ]
    }
   ],
   "source": [
    "y = vector.Vector([-0.221,7.437])\n",
    "print(y.magnitude())"
   ]
  },
  {
   "cell_type": "code",
   "execution_count": 7,
   "metadata": {
    "collapsed": false,
    "deletable": true,
    "editable": true
   },
   "outputs": [
    {
     "name": "stdout",
     "output_type": "stream",
     "text": [
      "10.884187567292289\n"
     ]
    }
   ],
   "source": [
    "y = vector.Vector([8.813,-1.331,-6.247])\n",
    "print(y.magnitude())"
   ]
  },
  {
   "cell_type": "code",
   "execution_count": 8,
   "metadata": {
    "collapsed": false,
    "deletable": true,
    "editable": true
   },
   "outputs": [
    {
     "name": "stdout",
     "output_type": "stream",
     "text": [
      "Vector: (0.9339352140866403, -0.35744232526233)\n"
     ]
    }
   ],
   "source": [
    "z = vector.Vector([5.581,-2.136])\n",
    "print(z.normalization())"
   ]
  },
  {
   "cell_type": "code",
   "execution_count": 9,
   "metadata": {
    "collapsed": false,
    "deletable": true,
    "editable": true
   },
   "outputs": [
    {
     "name": "stdout",
     "output_type": "stream",
     "text": [
      "Vector: (0.3404012959433014, 0.5300437012984873, -0.7766470449528029)\n"
     ]
    }
   ],
   "source": [
    "z = vector.Vector([1.996,3.108,-4.554])\n",
    "print(z.normalization())"
   ]
  },
  {
   "cell_type": "code",
   "execution_count": 10,
   "metadata": {
    "collapsed": false,
    "deletable": true,
    "editable": true
   },
   "outputs": [],
   "source": [
    "#z = vector.Vector([0,0,0])\n",
    "#print(z.normalization())"
   ]
  },
  {
   "cell_type": "code",
   "execution_count": 11,
   "metadata": {
    "collapsed": false,
    "deletable": true,
    "editable": true
   },
   "outputs": [
    {
     "name": "stdout",
     "output_type": "stream",
     "text": [
      "-41.382286\n"
     ]
    }
   ],
   "source": [
    "v = vector.Vector([7.887,4.138])\n",
    "w = vector.Vector([-8.802,6.776])\n",
    "print(v.dot(w))"
   ]
  },
  {
   "cell_type": "code",
   "execution_count": 12,
   "metadata": {
    "collapsed": false,
    "deletable": true,
    "editable": true
   },
   "outputs": [
    {
     "name": "stdout",
     "output_type": "stream",
     "text": [
      "56.397178000000004\n"
     ]
    }
   ],
   "source": [
    "v = vector.Vector([-5.955,-4.904,-1.874])\n",
    "w = vector.Vector([-4.496,-8.755,7.103])\n",
    "print(v.dot(w))"
   ]
  },
  {
   "cell_type": "code",
   "execution_count": 13,
   "metadata": {
    "collapsed": false,
    "deletable": true,
    "editable": true
   },
   "outputs": [
    {
     "name": "stdout",
     "output_type": "stream",
     "text": [
      "3.0720263098372476\n"
     ]
    }
   ],
   "source": [
    "v = vector.Vector([3.183,-7.627])\n",
    "w = vector.Vector([-2.668,5.319])\n",
    "print(v.angle(w))"
   ]
  },
  {
   "cell_type": "code",
   "execution_count": 14,
   "metadata": {
    "collapsed": false,
    "deletable": true,
    "editable": true
   },
   "outputs": [
    {
     "name": "stdout",
     "output_type": "stream",
     "text": [
      "60.27581120523091\n"
     ]
    }
   ],
   "source": [
    "v = vector.Vector([7.350,0.221,5.188])\n",
    "w = vector.Vector([2.751,8.259,3.985])\n",
    "print(v.angle(w,in_degree=True))"
   ]
  },
  {
   "cell_type": "code",
   "execution_count": 15,
   "metadata": {
    "collapsed": false
   },
   "outputs": [
    {
     "name": "stdout",
     "output_type": "stream",
     "text": [
      "True\n",
      "False\n"
     ]
    }
   ],
   "source": [
    "v = vector.Vector([-7.579,-7.88])\n",
    "w = vector.Vector([22.737,23.64])\n",
    "print(v.parallel(w))\n",
    "print(v.orthogonal(w))"
   ]
  },
  {
   "cell_type": "code",
   "execution_count": 16,
   "metadata": {
    "collapsed": false
   },
   "outputs": [
    {
     "name": "stdout",
     "output_type": "stream",
     "text": [
      "False\n",
      "False\n"
     ]
    }
   ],
   "source": [
    "v = vector.Vector([-2.029,9.97,4.172])\n",
    "w = vector.Vector([-9.231,-6.639,-7.245])\n",
    "print(v.parallel(w))\n",
    "print(v.orthogonal(w))"
   ]
  },
  {
   "cell_type": "code",
   "execution_count": 17,
   "metadata": {
    "collapsed": false
   },
   "outputs": [
    {
     "name": "stdout",
     "output_type": "stream",
     "text": [
      "False\n",
      "True\n"
     ]
    }
   ],
   "source": [
    "v = vector.Vector([-2.328,-7.284,-1.214])\n",
    "w = vector.Vector([-1.821,1.072,-2.94])\n",
    "print(v.parallel(w))\n",
    "print(v.orthogonal(w))"
   ]
  },
  {
   "cell_type": "code",
   "execution_count": 18,
   "metadata": {
    "collapsed": false
   },
   "outputs": [
    {
     "name": "stdout",
     "output_type": "stream",
     "text": [
      "True\n",
      "True\n"
     ]
    }
   ],
   "source": [
    "v = vector.Vector([2.118,4.827])\n",
    "w = vector.Vector([0,0])\n",
    "print(v.parallel(w))\n",
    "print(v.orthogonal(w))"
   ]
  },
  {
   "cell_type": "code",
   "execution_count": 19,
   "metadata": {
    "collapsed": false
   },
   "outputs": [
    {
     "name": "stdout",
     "output_type": "stream",
     "text": [
      "True\n",
      "False\n"
     ]
    }
   ],
   "source": [
    "v = vector.Vector([-1,-1])\n",
    "w = vector.Vector([3,3])\n",
    "print(v.parallel(w))\n",
    "print(v.orthogonal(w))"
   ]
  },
  {
   "cell_type": "code",
   "execution_count": 20,
   "metadata": {
    "collapsed": false
   },
   "outputs": [
    {
     "name": "stdout",
     "output_type": "stream",
     "text": [
      "False\n"
     ]
    }
   ],
   "source": [
    "v = vector.Vector([-1,-1])\n",
    "w = vector.Vector([3,3])\n",
    "print(v.is_zero())"
   ]
  },
  {
   "cell_type": "code",
   "execution_count": 21,
   "metadata": {
    "collapsed": false
   },
   "outputs": [
    {
     "name": "stdout",
     "output_type": "stream",
     "text": [
      "Vector: (1.082606962484467, 2.671742758325303)\n"
     ]
    }
   ],
   "source": [
    "v = vector.Vector([3.039,1.879])\n",
    "b = vector.Vector([0.825,2.036])\n",
    "print(v.component_parallel_to(b))"
   ]
  },
  {
   "cell_type": "code",
   "execution_count": 22,
   "metadata": {
    "collapsed": false
   },
   "outputs": [
    {
     "name": "stdout",
     "output_type": "stream",
     "text": [
      "Vector: (-8.350081043195763, 3.376061254287722, -1.4337460427811841)\n"
     ]
    }
   ],
   "source": [
    "v = vector.Vector([-9.88,-3.264,-8.159])\n",
    "b = vector.Vector([-2.155,-9.353,-9.473])\n",
    "print(v.component_orthogonal_to(b))"
   ]
  }
 ],
 "metadata": {
  "kernelspec": {
   "display_name": "Python 3",
   "language": "python",
   "name": "python3"
  },
  "language_info": {
   "codemirror_mode": {
    "name": "ipython",
    "version": 3
   },
   "file_extension": ".py",
   "mimetype": "text/x-python",
   "name": "python",
   "nbconvert_exporter": "python",
   "pygments_lexer": "ipython3",
   "version": "3.6.0"
  }
 },
 "nbformat": 4,
 "nbformat_minor": 2
}
